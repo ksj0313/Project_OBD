{
 "cells": [
  {
   "cell_type": "code",
   "execution_count": null,
   "id": "f635ae0b-be82-4e46-9d2a-a3b6496420eb",
   "metadata": {},
   "outputs": [],
   "source": [
    "!git clone https://github.com/ultralytics/yolov5"
   ]
  },
  {
   "cell_type": "code",
   "execution_count": null,
   "id": "a0b3b004-30d5-41a9-9cb5-781402de4553",
   "metadata": {
    "tags": []
   },
   "outputs": [],
   "source": [
    "# 실행한 내용 \n",
    "%cd yolov5\n",
    "!pip install -r requirements.txt"
   ]
  },
  {
   "cell_type": "code",
   "execution_count": null,
   "id": "1ecc581e-e954-4b78-8dce-802157f6a612",
   "metadata": {
    "tags": []
   },
   "outputs": [],
   "source": [
    "!pip install torch torchvision torchaudio"
   ]
  },
  {
   "cell_type": "code",
   "execution_count": null,
   "id": "197eb4f7-24b6-40f4-800a-0cf98735a501",
   "metadata": {
    "tags": []
   },
   "outputs": [],
   "source": [
    "!pip install roboflow\n",
    "\n",
    "from roboflow import Roboflow\n",
    "rf = Roboflow(api_key=\"zUKpim9gLjbG7xUp3Fvm\")\n",
    "project = rf.workspace(\"obd-team\").project(\"-7ww49\")\n",
    "version = project.version(1)\n",
    "dataset = version.download(\"yolov5\")"
   ]
  },
  {
   "cell_type": "code",
   "execution_count": 3,
   "id": "bf9c4b53-0cd3-46f5-a494-b32f6d2ff2de",
   "metadata": {},
   "outputs": [
    {
     "name": "stdout",
     "output_type": "stream",
     "text": [
      "/kimsj020406/yolov5\n"
     ]
    }
   ],
   "source": [
    "%cd yolov5"
   ]
  },
  {
   "cell_type": "code",
   "execution_count": 4,
   "id": "56a1447f-ed31-4d84-b2fd-3a0758979184",
   "metadata": {
    "tags": []
   },
   "outputs": [
    {
     "name": "stdout",
     "output_type": "stream",
     "text": [
      "Traceback (most recent call last):\n",
      "  File \"train.py\", line 47, in <module>\n",
      "    import val as validate  # for end-of-epoch mAP\n",
      "  File \"/kimsj020406/yolov5/val.py\", line 39, in <module>\n",
      "    from models.common import DetectMultiBackend\n",
      "  File \"/kimsj020406/yolov5/models/common.py\", line 16, in <module>\n",
      "    import cv2\n",
      "  File \"/opt/conda/lib/python3.8/site-packages/cv2/__init__.py\", line 181, in <module>\n",
      "    bootstrap()\n",
      "  File \"/opt/conda/lib/python3.8/site-packages/cv2/__init__.py\", line 175, in bootstrap\n",
      "    if __load_extra_py_code_for_module(\"cv2\", submodule, DEBUG):\n",
      "  File \"/opt/conda/lib/python3.8/site-packages/cv2/__init__.py\", line 28, in __load_extra_py_code_for_module\n",
      "    py_module = importlib.import_module(module_name)\n",
      "  File \"/opt/conda/lib/python3.8/importlib/__init__.py\", line 127, in import_module\n",
      "    return _bootstrap._gcd_import(name[level:], package, level)\n",
      "  File \"/opt/conda/lib/python3.8/site-packages/cv2/mat_wrapper/__init__.py\", line 40, in <module>\n",
      "    cv._registerMatType(Mat)\n",
      "AttributeError: partially initialized module 'cv2' has no attribute '_registerMatType' (most likely due to a circular import)\n"
     ]
    }
   ],
   "source": [
    "# 학습실행 코드 \n",
    "!python train.py --img 640 --batch 16 --epochs 150 --data ../masking/data.yaml --weights yolov5s.pt"
   ]
  },
  {
   "cell_type": "code",
   "execution_count": 8,
   "id": "14b74893-43d6-4b39-81fa-6b79be497efb",
   "metadata": {},
   "outputs": [
    {
     "name": "stdout",
     "output_type": "stream",
     "text": [
      "/kimsj020406/yolov5\n"
     ]
    }
   ],
   "source": [
    "!pwd"
   ]
  },
  {
   "cell_type": "code",
   "execution_count": 7,
   "id": "80459555-d367-4142-92f5-377a8203e42a",
   "metadata": {},
   "outputs": [
    {
     "name": "stdout",
     "output_type": "stream",
     "text": [
      "/kimsj020406/yolov5\n"
     ]
    }
   ],
   "source": [
    "%cd /kimsj020406/yolov5"
   ]
  },
  {
   "cell_type": "code",
   "execution_count": 9,
   "id": "a3d2c45d-5452-4497-b49d-7150f06c49b0",
   "metadata": {},
   "outputs": [
    {
     "name": "stdout",
     "output_type": "stream",
     "text": [
      "/kimsj020406/yolov5\n"
     ]
    }
   ],
   "source": [
    "%cd ./yolov5"
   ]
  },
  {
   "cell_type": "markdown",
   "id": "a5e97274-af34-4f6c-8a46-3266f9adec3c",
   "metadata": {},
   "source": [
    "### opencv 관련 버전문제 해결 "
   ]
  }
 ],
 "metadata": {
  "kernelspec": {
   "display_name": "Python 3 (ipykernel)",
   "language": "python",
   "name": "python3"
  },
  "language_info": {
   "codemirror_mode": {
    "name": "ipython",
    "version": 3
   },
   "file_extension": ".py",
   "mimetype": "text/x-python",
   "name": "python",
   "nbconvert_exporter": "python",
   "pygments_lexer": "ipython3",
   "version": "3.8.12"
  }
 },
 "nbformat": 4,
 "nbformat_minor": 5
}
