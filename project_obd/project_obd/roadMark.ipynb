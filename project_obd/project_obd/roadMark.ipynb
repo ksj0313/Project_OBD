{
 "cells": [
  {
   "cell_type": "code",
   "execution_count": null,
   "id": "f635ae0b-be82-4e46-9d2a-a3b6496420eb",
   "metadata": {},
   "outputs": [],
   "source": [
    "!git clone https://github.com/ultralytics/yolov5"
   ]
  },
  {
   "cell_type": "code",
   "execution_count": null,
   "id": "a0b3b004-30d5-41a9-9cb5-781402de4553",
   "metadata": {
    "tags": []
   },
   "outputs": [],
   "source": [
    "# 실행한 내용 \n",
    "%cd yolov5\n",
    "!pip install -r requirements.txt"
   ]
  },
  {
   "cell_type": "code",
   "execution_count": null,
   "id": "1ecc581e-e954-4b78-8dce-802157f6a612",
   "metadata": {
    "tags": []
   },
   "outputs": [],
   "source": [
    "!pip install torch torchvision torchaudio"
   ]
  },
  {
   "cell_type": "code",
   "execution_count": null,
   "id": "197eb4f7-24b6-40f4-800a-0cf98735a501",
   "metadata": {
    "jupyter": {
     "source_hidden": true
    },
    "tags": []
   },
   "outputs": [],
   "source": [
    "!pip install roboflow\n",
    "\n",
    "from roboflow import Roboflow\n",
    "rf = Roboflow(api_key=\"zUKpim9gLjbG7xUp3Fvm\")\n",
    "project = rf.workspace(\"obd-team\").project(\"-7ww49\")\n",
    "version = project.version(1)\n",
    "dataset = version.download(\"yolov5\")"
   ]
  },
  {
   "cell_type": "code",
   "execution_count": 3,
   "id": "bf9c4b53-0cd3-46f5-a494-b32f6d2ff2de",
   "metadata": {
    "jupyter": {
     "source_hidden": true
    },
    "tags": []
   },
   "outputs": [
    {
     "name": "stdout",
     "output_type": "stream",
     "text": [
      "/kimsj020406/yolov5\n"
     ]
    }
   ],
   "source": [
    "%cd yolov5"
   ]
  },
  {
   "cell_type": "code",
   "execution_count": 8,
   "id": "14b74893-43d6-4b39-81fa-6b79be497efb",
   "metadata": {},
   "outputs": [
    {
     "name": "stdout",
     "output_type": "stream",
     "text": [
      "/kimsj020406/yolov5\n"
     ]
    }
   ],
   "source": [
    "!pwd"
   ]
  },
  {
   "cell_type": "code",
   "execution_count": 7,
   "id": "80459555-d367-4142-92f5-377a8203e42a",
   "metadata": {},
   "outputs": [
    {
     "name": "stdout",
     "output_type": "stream",
     "text": [
      "/kimsj020406/yolov5\n"
     ]
    }
   ],
   "source": [
    "%cd /kimsj020406/yolov5"
   ]
  },
  {
   "cell_type": "code",
   "execution_count": 9,
   "id": "a3d2c45d-5452-4497-b49d-7150f06c49b0",
   "metadata": {},
   "outputs": [
    {
     "name": "stdout",
     "output_type": "stream",
     "text": [
      "/kimsj020406/yolov5\n"
     ]
    }
   ],
   "source": [
    "%cd ./yolov5"
   ]
  },
  {
   "cell_type": "markdown",
   "id": "a5e97274-af34-4f6c-8a46-3266f9adec3c",
   "metadata": {},
   "source": [
    "### opencv 관련 버전문제 해결 "
   ]
  },
  {
   "cell_type": "code",
   "execution_count": 19,
   "id": "d35d2b86-1c21-439b-a92e-8fd474a30475",
   "metadata": {},
   "outputs": [
    {
     "name": "stdout",
     "output_type": "stream",
     "text": [
      "Found existing installation: opencv-python 4.10.0.84\n",
      "Uninstalling opencv-python-4.10.0.84:\n",
      "  Successfully uninstalled opencv-python-4.10.0.84\n",
      "Found existing installation: opencv-contrib-python 4.5.5.62\n",
      "Uninstalling opencv-contrib-python-4.5.5.62:\n",
      "  Successfully uninstalled opencv-contrib-python-4.5.5.62\n",
      "\u001b[33mWARNING: Skipping opencv-python-headless as it is not installed.\u001b[0m\n",
      "\u001b[33mWARNING: Running pip as the 'root' user can result in broken permissions and conflicting behaviour with the system package manager. It is recommended to use a virtual environment instead: https://pip.pypa.io/warnings/venv\u001b[0m\n",
      "Note: you may need to restart the kernel to use updated packages.\n"
     ]
    }
   ],
   "source": [
    "pip uninstall opencv-python opencv-contrib-python opencv-python-headless -y"
   ]
  },
  {
   "cell_type": "code",
   "execution_count": 20,
   "id": "9380666f-2117-431c-a1bb-2de0a9638a66",
   "metadata": {},
   "outputs": [
    {
     "name": "stdout",
     "output_type": "stream",
     "text": [
      "Looking in indexes: https://pypi.org/simple, https://pypi.ngc.nvidia.com\n",
      "Collecting opencv-python==4.5.5.64\n",
      "  Downloading opencv_python-4.5.5.64-cp36-abi3-manylinux_2_17_x86_64.manylinux2014_x86_64.whl (60.5 MB)\n",
      "\u001b[K     |████████████████████████████████| 60.5 MB 57.0 MB/s eta 0:00:01     |█████████████████████▊          | 41.1 MB 57.0 MB/s eta 0:00:01\n",
      "\u001b[?25hRequirement already satisfied: numpy>=1.17.3 in /opt/conda/lib/python3.8/site-packages (from opencv-python==4.5.5.64) (1.24.4)\n",
      "Installing collected packages: opencv-python\n",
      "\u001b[31mERROR: pip's dependency resolver does not currently take into account all the packages that are installed. This behaviour is the source of the following dependency conflicts.\n",
      "ultralytics 8.3.35 requires opencv-python>=4.6.0, but you have opencv-python 4.5.5.64 which is incompatible.\u001b[0m\n",
      "Successfully installed opencv-python-4.5.5.64\n",
      "\u001b[33mWARNING: Running pip as the 'root' user can result in broken permissions and conflicting behaviour with the system package manager. It is recommended to use a virtual environment instead: https://pip.pypa.io/warnings/venv\u001b[0m\n",
      "Note: you may need to restart the kernel to use updated packages.\n"
     ]
    }
   ],
   "source": [
    "pip install opencv-python==4.5.5.64"
   ]
  },
  {
   "cell_type": "code",
   "execution_count": 8,
   "id": "997e6cde-c5c0-41d3-9bc8-9f7caaec34a9",
   "metadata": {},
   "outputs": [
    {
     "name": "stdout",
     "output_type": "stream",
     "text": [
      "Looking in indexes: https://pypi.org/simple, https://pypi.ngc.nvidia.com\n",
      "Collecting opencv-contrib-python==4.5.5.62\n",
      "  Downloading opencv_contrib_python-4.5.5.62-cp36-abi3-manylinux_2_17_x86_64.manylinux2014_x86_64.whl (66.6 MB)\n",
      "\u001b[K     |████████████████████████████████| 66.6 MB 79.5 MB/s eta 0:00:01\n",
      "\u001b[?25hRequirement already satisfied: numpy>=1.14.5 in /opt/conda/lib/python3.8/site-packages (from opencv-contrib-python==4.5.5.62) (1.24.4)\n",
      "Installing collected packages: opencv-contrib-python\n",
      "Successfully installed opencv-contrib-python-4.5.5.62\n",
      "\u001b[33mWARNING: Running pip as the 'root' user can result in broken permissions and conflicting behaviour with the system package manager. It is recommended to use a virtual environment instead: https://pip.pypa.io/warnings/venv\u001b[0m\n",
      "Note: you may need to restart the kernel to use updated packages.\n"
     ]
    }
   ],
   "source": [
    "pip install opencv-contrib-python==4.5.5.62"
   ]
  },
  {
   "cell_type": "code",
   "execution_count": 21,
   "id": "422d7e6d-959c-4a41-93f5-eb88927a29d9",
   "metadata": {},
   "outputs": [
    {
     "name": "stdout",
     "output_type": "stream",
     "text": [
      "4.5.5\n"
     ]
    }
   ],
   "source": [
    "import cv2\n",
    "print(cv2.__version__)"
   ]
  },
  {
   "cell_type": "code",
   "execution_count": 10,
   "id": "af0da8d5-c847-402e-8c15-754ecb69e5f4",
   "metadata": {
    "collapsed": true,
    "jupyter": {
     "outputs_hidden": true
    },
    "tags": []
   },
   "outputs": [
    {
     "name": "stdout",
     "output_type": "stream",
     "text": [
      "Looking in indexes: https://pypi.org/simple, https://pypi.ngc.nvidia.com\n",
      "Requirement already satisfied: gitpython>=3.1.30 in /opt/conda/lib/python3.8/site-packages (from -r requirements.txt (line 5)) (3.1.43)\n",
      "Requirement already satisfied: matplotlib>=3.3 in /opt/conda/lib/python3.8/site-packages (from -r requirements.txt (line 6)) (3.4.3)\n",
      "Requirement already satisfied: numpy>=1.23.5 in /opt/conda/lib/python3.8/site-packages (from -r requirements.txt (line 7)) (1.24.4)\n",
      "Collecting opencv-python>=4.1.1\n",
      "  Downloading opencv_python-4.10.0.84-cp37-abi3-manylinux_2_17_x86_64.manylinux2014_x86_64.whl (62.5 MB)\n",
      "\u001b[K     |████████████████████████████████| 62.5 MB 61.8 MB/s eta 0:00:01\n",
      "\u001b[?25hRequirement already satisfied: pillow>=10.3.0 in /opt/conda/lib/python3.8/site-packages (from -r requirements.txt (line 9)) (10.4.0)\n",
      "Requirement already satisfied: psutil in /opt/conda/lib/python3.8/site-packages (from -r requirements.txt (line 10)) (5.8.0)\n",
      "Requirement already satisfied: PyYAML>=5.3.1 in /opt/conda/lib/python3.8/site-packages (from -r requirements.txt (line 11)) (5.4.1)\n",
      "Requirement already satisfied: requests>=2.32.2 in /opt/conda/lib/python3.8/site-packages (from -r requirements.txt (line 12)) (2.32.3)\n",
      "Requirement already satisfied: scipy>=1.4.1 in /opt/conda/lib/python3.8/site-packages (from -r requirements.txt (line 13)) (1.10.1)\n",
      "Requirement already satisfied: thop>=0.1.1 in /opt/conda/lib/python3.8/site-packages (from -r requirements.txt (line 14)) (0.1.1.post2209072238)\n",
      "Requirement already satisfied: torch>=1.8.0 in /opt/conda/lib/python3.8/site-packages (from -r requirements.txt (line 15)) (2.4.1)\n",
      "Requirement already satisfied: torchvision>=0.9.0 in /opt/conda/lib/python3.8/site-packages (from -r requirements.txt (line 16)) (0.19.1)\n",
      "Requirement already satisfied: tqdm>=4.66.3 in /opt/conda/lib/python3.8/site-packages (from -r requirements.txt (line 17)) (4.67.0)\n",
      "Requirement already satisfied: ultralytics>=8.2.34 in /opt/conda/lib/python3.8/site-packages (from -r requirements.txt (line 18)) (8.3.35)\n",
      "Requirement already satisfied: pandas>=1.1.4 in /opt/conda/lib/python3.8/site-packages (from -r requirements.txt (line 27)) (2.0.3)\n",
      "Requirement already satisfied: seaborn>=0.11.0 in /opt/conda/lib/python3.8/site-packages (from -r requirements.txt (line 28)) (0.13.2)\n",
      "Requirement already satisfied: setuptools>=70.0.0 in /opt/conda/lib/python3.8/site-packages (from -r requirements.txt (line 42)) (75.3.0)\n",
      "Requirement already satisfied: gitdb<5,>=4.0.1 in /opt/conda/lib/python3.8/site-packages (from gitpython>=3.1.30->-r requirements.txt (line 5)) (4.0.11)\n",
      "Requirement already satisfied: pyparsing>=2.2.1 in /opt/conda/lib/python3.8/site-packages (from matplotlib>=3.3->-r requirements.txt (line 6)) (2.4.7)\n",
      "Requirement already satisfied: cycler>=0.10 in /opt/conda/lib/python3.8/site-packages (from matplotlib>=3.3->-r requirements.txt (line 6)) (0.10.0)\n",
      "Requirement already satisfied: python-dateutil>=2.7 in /opt/conda/lib/python3.8/site-packages (from matplotlib>=3.3->-r requirements.txt (line 6)) (2.8.2)\n",
      "Requirement already satisfied: kiwisolver>=1.0.1 in /opt/conda/lib/python3.8/site-packages (from matplotlib>=3.3->-r requirements.txt (line 6)) (1.3.2)\n",
      "Requirement already satisfied: charset-normalizer<4,>=2 in /opt/conda/lib/python3.8/site-packages (from requests>=2.32.2->-r requirements.txt (line 12)) (2.0.0)\n",
      "Requirement already satisfied: idna<4,>=2.5 in /opt/conda/lib/python3.8/site-packages (from requests>=2.32.2->-r requirements.txt (line 12)) (3.7)\n",
      "Requirement already satisfied: certifi>=2017.4.17 in /opt/conda/lib/python3.8/site-packages (from requests>=2.32.2->-r requirements.txt (line 12)) (2021.5.30)\n",
      "Requirement already satisfied: urllib3<3,>=1.21.1 in /opt/conda/lib/python3.8/site-packages (from requests>=2.32.2->-r requirements.txt (line 12)) (1.26.7)\n",
      "Requirement already satisfied: nvidia-cublas-cu12==12.1.3.1 in /opt/conda/lib/python3.8/site-packages (from torch>=1.8.0->-r requirements.txt (line 15)) (12.1.3.1)\n",
      "Requirement already satisfied: nvidia-cuda-nvrtc-cu12==12.1.105 in /opt/conda/lib/python3.8/site-packages (from torch>=1.8.0->-r requirements.txt (line 15)) (12.1.105)\n",
      "Requirement already satisfied: jinja2 in /opt/conda/lib/python3.8/site-packages (from torch>=1.8.0->-r requirements.txt (line 15)) (3.1.2)\n",
      "Requirement already satisfied: fsspec in /opt/conda/lib/python3.8/site-packages (from torch>=1.8.0->-r requirements.txt (line 15)) (2023.10.0)\n",
      "Requirement already satisfied: nvidia-cuda-cupti-cu12==12.1.105 in /opt/conda/lib/python3.8/site-packages (from torch>=1.8.0->-r requirements.txt (line 15)) (12.1.105)\n",
      "Requirement already satisfied: nvidia-nvtx-cu12==12.1.105 in /opt/conda/lib/python3.8/site-packages (from torch>=1.8.0->-r requirements.txt (line 15)) (12.1.105)\n",
      "Requirement already satisfied: filelock in /opt/conda/lib/python3.8/site-packages (from torch>=1.8.0->-r requirements.txt (line 15)) (3.3.0)\n",
      "Requirement already satisfied: triton==3.0.0 in /opt/conda/lib/python3.8/site-packages (from torch>=1.8.0->-r requirements.txt (line 15)) (3.0.0)\n",
      "Requirement already satisfied: nvidia-cusparse-cu12==12.1.0.106 in /opt/conda/lib/python3.8/site-packages (from torch>=1.8.0->-r requirements.txt (line 15)) (12.1.0.106)\n",
      "Requirement already satisfied: typing-extensions>=4.8.0 in /opt/conda/lib/python3.8/site-packages (from torch>=1.8.0->-r requirements.txt (line 15)) (4.12.2)\n",
      "Requirement already satisfied: nvidia-cudnn-cu12==9.1.0.70 in /opt/conda/lib/python3.8/site-packages (from torch>=1.8.0->-r requirements.txt (line 15)) (9.1.0.70)\n",
      "Requirement already satisfied: nvidia-nccl-cu12==2.20.5 in /opt/conda/lib/python3.8/site-packages (from torch>=1.8.0->-r requirements.txt (line 15)) (2.20.5)\n",
      "Requirement already satisfied: nvidia-curand-cu12==10.3.2.106 in /opt/conda/lib/python3.8/site-packages (from torch>=1.8.0->-r requirements.txt (line 15)) (10.3.2.106)\n",
      "Requirement already satisfied: sympy in /opt/conda/lib/python3.8/site-packages (from torch>=1.8.0->-r requirements.txt (line 15)) (1.13.3)\n",
      "Requirement already satisfied: networkx in /opt/conda/lib/python3.8/site-packages (from torch>=1.8.0->-r requirements.txt (line 15)) (2.0)\n",
      "Requirement already satisfied: nvidia-cusolver-cu12==11.4.5.107 in /opt/conda/lib/python3.8/site-packages (from torch>=1.8.0->-r requirements.txt (line 15)) (11.4.5.107)\n",
      "Requirement already satisfied: nvidia-cufft-cu12==11.0.2.54 in /opt/conda/lib/python3.8/site-packages (from torch>=1.8.0->-r requirements.txt (line 15)) (11.0.2.54)\n",
      "Requirement already satisfied: nvidia-cuda-runtime-cu12==12.1.105 in /opt/conda/lib/python3.8/site-packages (from torch>=1.8.0->-r requirements.txt (line 15)) (12.1.105)\n",
      "Requirement already satisfied: nvidia-nvjitlink-cu12 in /opt/conda/lib/python3.8/site-packages (from nvidia-cusolver-cu12==11.4.5.107->torch>=1.8.0->-r requirements.txt (line 15)) (12.6.85)\n",
      "Requirement already satisfied: ultralytics-thop>=2.0.0 in /opt/conda/lib/python3.8/site-packages (from ultralytics>=8.2.34->-r requirements.txt (line 18)) (2.0.12)\n",
      "Requirement already satisfied: py-cpuinfo in /opt/conda/lib/python3.8/site-packages (from ultralytics>=8.2.34->-r requirements.txt (line 18)) (9.0.0)\n",
      "Requirement already satisfied: tzdata>=2022.1 in /opt/conda/lib/python3.8/site-packages (from pandas>=1.1.4->-r requirements.txt (line 27)) (2024.2)\n",
      "Requirement already satisfied: pytz>=2020.1 in /opt/conda/lib/python3.8/site-packages (from pandas>=1.1.4->-r requirements.txt (line 27)) (2021.3)\n",
      "Requirement already satisfied: six in /opt/conda/lib/python3.8/site-packages (from cycler>=0.10->matplotlib>=3.3->-r requirements.txt (line 6)) (1.16.0)\n",
      "Requirement already satisfied: smmap<6,>=3.0.1 in /opt/conda/lib/python3.8/site-packages (from gitdb<5,>=4.0.1->gitpython>=3.1.30->-r requirements.txt (line 5)) (5.0.1)\n",
      "Requirement already satisfied: MarkupSafe>=2.0 in /opt/conda/lib/python3.8/site-packages (from jinja2->torch>=1.8.0->-r requirements.txt (line 15)) (2.0.1)\n",
      "Requirement already satisfied: decorator>=4.1.0 in /opt/conda/lib/python3.8/site-packages (from networkx->torch>=1.8.0->-r requirements.txt (line 15)) (5.1.0)\n",
      "Requirement already satisfied: mpmath<1.4,>=1.1.0 in /opt/conda/lib/python3.8/site-packages (from sympy->torch>=1.8.0->-r requirements.txt (line 15)) (1.3.0)\n",
      "Installing collected packages: opencv-python\n",
      "Successfully installed opencv-python-4.10.0.84\n",
      "\u001b[33mWARNING: Running pip as the 'root' user can result in broken permissions and conflicting behaviour with the system package manager. It is recommended to use a virtual environment instead: https://pip.pypa.io/warnings/venv\u001b[0m\n",
      "Note: you may need to restart the kernel to use updated packages.\n"
     ]
    }
   ],
   "source": [
    "pip install -r requirements.txt"
   ]
  },
  {
   "cell_type": "code",
   "execution_count": 16,
   "id": "6a074ded-651a-4017-89f9-a519b56b2f49",
   "metadata": {
    "collapsed": true,
    "jupyter": {
     "outputs_hidden": true
    },
    "tags": []
   },
   "outputs": [
    {
     "name": "stdout",
     "output_type": "stream",
     "text": [
      "Found existing installation: opencv-python 4.10.0.84\n",
      "Uninstalling opencv-python-4.10.0.84:\n",
      "  Would remove:\n",
      "    /opt/conda/lib/python3.8/site-packages/cv2/*\n",
      "    /opt/conda/lib/python3.8/site-packages/opencv_python-4.10.0.84.dist-info/*\n",
      "    /opt/conda/lib/python3.8/site-packages/opencv_python.libs/libQt5Core-e6d3f451.so.5.15.13\n",
      "    /opt/conda/lib/python3.8/site-packages/opencv_python.libs/libQt5Gui-5dea4132.so.5.15.13\n",
      "    /opt/conda/lib/python3.8/site-packages/opencv_python.libs/libQt5Test-d435aae7.so.5.15.13\n",
      "    /opt/conda/lib/python3.8/site-packages/opencv_python.libs/libQt5Widgets-e392eaf8.so.5.15.13\n",
      "    /opt/conda/lib/python3.8/site-packages/opencv_python.libs/libQt5XcbQpa-3bf8a55a.so.5.15.13\n",
      "    /opt/conda/lib/python3.8/site-packages/opencv_python.libs/libX11-xcb-0e257303.so.1.0.0\n",
      "    /opt/conda/lib/python3.8/site-packages/opencv_python.libs/libXau-00ec42fe.so.6.0.0\n",
      "    /opt/conda/lib/python3.8/site-packages/opencv_python.libs/libavcodec-9aae324f.so.59.37.100\n",
      "    /opt/conda/lib/python3.8/site-packages/opencv_python.libs/libavformat-3ff1be5b.so.59.27.100\n",
      "    /opt/conda/lib/python3.8/site-packages/opencv_python.libs/libavutil-a0a0531e.so.57.28.100\n",
      "    /opt/conda/lib/python3.8/site-packages/opencv_python.libs/libcrypto-337dac8b.so.1.1\n",
      "    /opt/conda/lib/python3.8/site-packages/opencv_python.libs/libgfortran-91cc3cb1.so.3.0.0\n",
      "    /opt/conda/lib/python3.8/site-packages/opencv_python.libs/libopenblas-r0-f650aae0.3.3.so\n",
      "    /opt/conda/lib/python3.8/site-packages/opencv_python.libs/libpng16-1bde1c40.so.16.43.0\n",
      "    /opt/conda/lib/python3.8/site-packages/opencv_python.libs/libquadmath-96973f99.so.0.0.0\n",
      "    /opt/conda/lib/python3.8/site-packages/opencv_python.libs/libssl-28bef1ac.so.1.1\n",
      "    /opt/conda/lib/python3.8/site-packages/opencv_python.libs/libswresample-2ec4394e.so.4.7.100\n",
      "    /opt/conda/lib/python3.8/site-packages/opencv_python.libs/libswscale-2c3c8be7.so.6.7.100\n",
      "    /opt/conda/lib/python3.8/site-packages/opencv_python.libs/libvpx-c3a7933e.so.9.0.0\n",
      "    /opt/conda/lib/python3.8/site-packages/opencv_python.libs/libxcb-icccm-413c9f41.so.4.0.0\n",
      "    /opt/conda/lib/python3.8/site-packages/opencv_python.libs/libxcb-image-e82a276d.so.0.0.0\n",
      "    /opt/conda/lib/python3.8/site-packages/opencv_python.libs/libxcb-keysyms-21015570.so.1.0.0\n",
      "    /opt/conda/lib/python3.8/site-packages/opencv_python.libs/libxcb-randr-a96a5a87.so.0.1.0\n",
      "    /opt/conda/lib/python3.8/site-packages/opencv_python.libs/libxcb-render-637b984a.so.0.0.0\n",
      "    /opt/conda/lib/python3.8/site-packages/opencv_python.libs/libxcb-render-util-43ce00f5.so.0.0.0\n",
      "    /opt/conda/lib/python3.8/site-packages/opencv_python.libs/libxcb-shape-25c2b258.so.0.0.0\n",
      "    /opt/conda/lib/python3.8/site-packages/opencv_python.libs/libxcb-shm-7a199f70.so.0.0.0\n",
      "    /opt/conda/lib/python3.8/site-packages/opencv_python.libs/libxcb-sync-89374f40.so.1.0.0\n",
      "    /opt/conda/lib/python3.8/site-packages/opencv_python.libs/libxcb-util-4d666913.so.1.0.0\n",
      "    /opt/conda/lib/python3.8/site-packages/opencv_python.libs/libxcb-xfixes-9be3ba6f.so.0.0.0\n",
      "    /opt/conda/lib/python3.8/site-packages/opencv_python.libs/libxcb-xinerama-ae147f87.so.0.0.0\n",
      "    /opt/conda/lib/python3.8/site-packages/opencv_python.libs/libxcb-xkb-9ba31ab3.so.1.0.0\n",
      "    /opt/conda/lib/python3.8/site-packages/opencv_python.libs/libxkbcommon-71ae2972.so.0.0.0\n",
      "    /opt/conda/lib/python3.8/site-packages/opencv_python.libs/libxkbcommon-x11-c65ed502.so.0.0.0\n",
      "  Would not remove (might be manually added):\n",
      "    /opt/conda/lib/python3.8/site-packages/cv2/config-3.8.py\n",
      "    /opt/conda/lib/python3.8/site-packages/cv2/data/haarcascade_licence_plate_rus_16stages.xml\n",
      "    /opt/conda/lib/python3.8/site-packages/cv2/python-3.8/cv2.cpython-38-x86_64-linux-gnu.so\n",
      "Proceed (Y/n)? ^C\n",
      "\u001b[31mERROR: Operation cancelled by user\u001b[0m\n",
      "Found existing installation: opencv-contrib-python 4.5.5.62\n",
      "Uninstalling opencv-contrib-python-4.5.5.62:\n",
      "  Would remove:\n",
      "    /opt/conda/lib/python3.8/site-packages/cv2/*\n",
      "    /opt/conda/lib/python3.8/site-packages/opencv_contrib_python-4.5.5.62.dist-info/*\n",
      "    /opt/conda/lib/python3.8/site-packages/opencv_contrib_python.libs/libQt5Core-39545cc7.so.5.15.0\n",
      "    /opt/conda/lib/python3.8/site-packages/opencv_contrib_python.libs/libQt5Gui-ba0a2070.so.5.15.0\n",
      "    /opt/conda/lib/python3.8/site-packages/opencv_contrib_python.libs/libQt5Test-c38a5234.so.5.15.0\n",
      "    /opt/conda/lib/python3.8/site-packages/opencv_contrib_python.libs/libQt5Widgets-e69d94fb.so.5.15.0\n",
      "    /opt/conda/lib/python3.8/site-packages/opencv_contrib_python.libs/libQt5XcbQpa-ca221f44.so.5.15.0\n",
      "    /opt/conda/lib/python3.8/site-packages/opencv_contrib_python.libs/libX11-xcb-69166bdf.so.1.0.0\n",
      "    /opt/conda/lib/python3.8/site-packages/opencv_contrib_python.libs/libXau-00ec42fe.so.6.0.0\n",
      "    /opt/conda/lib/python3.8/site-packages/opencv_contrib_python.libs/libavcodec-64ac49e1.so.58.91.100\n",
      "    /opt/conda/lib/python3.8/site-packages/opencv_contrib_python.libs/libavformat-4b79e479.so.58.45.100\n",
      "    /opt/conda/lib/python3.8/site-packages/opencv_contrib_python.libs/libavutil-805734e8.so.56.51.100\n",
      "    /opt/conda/lib/python3.8/site-packages/opencv_contrib_python.libs/libbz2-a273e504.so.1.0.6\n",
      "    /opt/conda/lib/python3.8/site-packages/opencv_contrib_python.libs/libcrypto-018b8c17.so.1.1\n",
      "    /opt/conda/lib/python3.8/site-packages/opencv_contrib_python.libs/libfreetype-c0e61f0c.so.6.14.0\n",
      "    /opt/conda/lib/python3.8/site-packages/opencv_contrib_python.libs/libgfortran-91cc3cb1.so.3.0.0\n",
      "    /opt/conda/lib/python3.8/site-packages/opencv_contrib_python.libs/libopenblas-r0-f650aae0.3.3.so\n",
      "    /opt/conda/lib/python3.8/site-packages/opencv_contrib_python.libs/libpng15-ce838cd1.so.15.13.0\n",
      "    /opt/conda/lib/python3.8/site-packages/opencv_contrib_python.libs/libquadmath-96973f99.so.0.0.0\n",
      "    /opt/conda/lib/python3.8/site-packages/opencv_contrib_python.libs/libssl-6082116c.so.1.1\n",
      "    /opt/conda/lib/python3.8/site-packages/opencv_contrib_python.libs/libswresample-83ce3247.so.3.7.100\n",
      "    /opt/conda/lib/python3.8/site-packages/opencv_contrib_python.libs/libswscale-7e960168.so.5.7.100\n",
      "    /opt/conda/lib/python3.8/site-packages/opencv_contrib_python.libs/libvpx-392cd848.so.6.4.0\n",
      "    /opt/conda/lib/python3.8/site-packages/opencv_contrib_python.libs/libxcb-icccm-413c9f41.so.4.0.0\n",
      "    /opt/conda/lib/python3.8/site-packages/opencv_contrib_python.libs/libxcb-image-e82a276d.so.0.0.0\n",
      "    /opt/conda/lib/python3.8/site-packages/opencv_contrib_python.libs/libxcb-keysyms-21015570.so.1.0.0\n",
      "    /opt/conda/lib/python3.8/site-packages/opencv_contrib_python.libs/libxcb-randr-a96a5a87.so.0.1.0\n",
      "    /opt/conda/lib/python3.8/site-packages/opencv_contrib_python.libs/libxcb-render-637b984a.so.0.0.0\n",
      "    /opt/conda/lib/python3.8/site-packages/opencv_contrib_python.libs/libxcb-render-util-43ce00f5.so.0.0.0\n",
      "    /opt/conda/lib/python3.8/site-packages/opencv_contrib_python.libs/libxcb-shape-25c2b258.so.0.0.0\n",
      "    /opt/conda/lib/python3.8/site-packages/opencv_contrib_python.libs/libxcb-shm-7a199f70.so.0.0.0\n",
      "    /opt/conda/lib/python3.8/site-packages/opencv_contrib_python.libs/libxcb-sync-89374f40.so.1.0.0\n",
      "    /opt/conda/lib/python3.8/site-packages/opencv_contrib_python.libs/libxcb-util-4d666913.so.1.0.0\n",
      "    /opt/conda/lib/python3.8/site-packages/opencv_contrib_python.libs/libxcb-xfixes-9be3ba6f.so.0.0.0\n",
      "    /opt/conda/lib/python3.8/site-packages/opencv_contrib_python.libs/libxcb-xinerama-ae147f87.so.0.0.0\n",
      "    /opt/conda/lib/python3.8/site-packages/opencv_contrib_python.libs/libxcb-xkb-9ba31ab3.so.1.0.0\n",
      "    /opt/conda/lib/python3.8/site-packages/opencv_contrib_python.libs/libxkbcommon-71ae2972.so.0.0.0\n",
      "    /opt/conda/lib/python3.8/site-packages/opencv_contrib_python.libs/libxkbcommon-x11-c65ed502.so.0.0.0\n",
      "  Would not remove (might be manually added):\n",
      "    /opt/conda/lib/python3.8/site-packages/cv2/Error/__init__.pyi\n",
      "    /opt/conda/lib/python3.8/site-packages/cv2/__init__.pyi\n",
      "    /opt/conda/lib/python3.8/site-packages/cv2/aruco/__init__.pyi\n",
      "    /opt/conda/lib/python3.8/site-packages/cv2/barcode/__init__.pyi\n",
      "    /opt/conda/lib/python3.8/site-packages/cv2/config-3.8.py\n",
      "    /opt/conda/lib/python3.8/site-packages/cv2/cuda/__init__.pyi\n",
      "    /opt/conda/lib/python3.8/site-packages/cv2/data/haarcascade_license_plate_rus_16stages.xml\n",
      "    /opt/conda/lib/python3.8/site-packages/cv2/detail/__init__.pyi\n",
      "    /opt/conda/lib/python3.8/site-packages/cv2/dnn/__init__.pyi\n",
      "    /opt/conda/lib/python3.8/site-packages/cv2/fisheye/__init__.pyi\n",
      "    /opt/conda/lib/python3.8/site-packages/cv2/flann/__init__.pyi\n",
      "    /opt/conda/lib/python3.8/site-packages/cv2/gapi/__init__.pyi\n",
      "    /opt/conda/lib/python3.8/site-packages/cv2/gapi/core/__init__.pyi\n",
      "    /opt/conda/lib/python3.8/site-packages/cv2/gapi/core/cpu/__init__.pyi\n",
      "    /opt/conda/lib/python3.8/site-packages/cv2/gapi/core/fluid/__init__.pyi\n",
      "    /opt/conda/lib/python3.8/site-packages/cv2/gapi/core/ocl/__init__.pyi\n",
      "    /opt/conda/lib/python3.8/site-packages/cv2/gapi/ie/__init__.pyi\n",
      "    /opt/conda/lib/python3.8/site-packages/cv2/gapi/ie/detail/__init__.pyi\n",
      "    /opt/conda/lib/python3.8/site-packages/cv2/gapi/imgproc/__init__.pyi\n",
      "    /opt/conda/lib/python3.8/site-packages/cv2/gapi/imgproc/fluid/__init__.pyi\n",
      "    /opt/conda/lib/python3.8/site-packages/cv2/gapi/oak/__init__.pyi\n",
      "    /opt/conda/lib/python3.8/site-packages/cv2/gapi/onnx/__init__.pyi\n",
      "    /opt/conda/lib/python3.8/site-packages/cv2/gapi/onnx/ep/__init__.pyi\n",
      "    /opt/conda/lib/python3.8/site-packages/cv2/gapi/ot/__init__.pyi\n",
      "    /opt/conda/lib/python3.8/site-packages/cv2/gapi/ot/cpu/__init__.pyi\n",
      "    /opt/conda/lib/python3.8/site-packages/cv2/gapi/ov/__init__.pyi\n",
      "    /opt/conda/lib/python3.8/site-packages/cv2/gapi/own/__init__.pyi\n",
      "    /opt/conda/lib/python3.8/site-packages/cv2/gapi/own/detail/__init__.pyi\n",
      "    /opt/conda/lib/python3.8/site-packages/cv2/gapi/render/__init__.pyi\n",
      "    /opt/conda/lib/python3.8/site-packages/cv2/gapi/render/ocv/__init__.pyi\n",
      "    /opt/conda/lib/python3.8/site-packages/cv2/gapi/streaming/__init__.pyi\n",
      "    /opt/conda/lib/python3.8/site-packages/cv2/gapi/video/__init__.pyi\n",
      "    /opt/conda/lib/python3.8/site-packages/cv2/gapi/wip/__init__.pyi\n",
      "    /opt/conda/lib/python3.8/site-packages/cv2/gapi/wip/draw/__init__.pyi\n",
      "    /opt/conda/lib/python3.8/site-packages/cv2/gapi/wip/gst/__init__.pyi\n",
      "    /opt/conda/lib/python3.8/site-packages/cv2/gapi/wip/onevpl/__init__.pyi\n",
      "    /opt/conda/lib/python3.8/site-packages/cv2/ipp/__init__.pyi\n",
      "    /opt/conda/lib/python3.8/site-packages/cv2/ml/__init__.pyi\n",
      "    /opt/conda/lib/python3.8/site-packages/cv2/ocl/__init__.pyi\n",
      "    /opt/conda/lib/python3.8/site-packages/cv2/ogl/__init__.pyi\n",
      "    /opt/conda/lib/python3.8/site-packages/cv2/parallel/__init__.pyi\n",
      "    /opt/conda/lib/python3.8/site-packages/cv2/py.typed\n",
      "    /opt/conda/lib/python3.8/site-packages/cv2/python-3.8/cv2.cpython-38-x86_64-linux-gnu.so\n",
      "    /opt/conda/lib/python3.8/site-packages/cv2/samples/__init__.pyi\n",
      "    /opt/conda/lib/python3.8/site-packages/cv2/segmentation/__init__.pyi\n",
      "    /opt/conda/lib/python3.8/site-packages/cv2/typing/__init__.py\n",
      "    /opt/conda/lib/python3.8/site-packages/cv2/utils/__init__.pyi\n",
      "    /opt/conda/lib/python3.8/site-packages/cv2/utils/fs/__init__.pyi\n",
      "    /opt/conda/lib/python3.8/site-packages/cv2/utils/nested/__init__.pyi\n",
      "    /opt/conda/lib/python3.8/site-packages/cv2/videoio_registry/__init__.pyi\n",
      "Proceed (Y/n)? ^C\n",
      "\u001b[31mERROR: Operation cancelled by user\u001b[0m\n",
      "\u001b[33mWARNING: Skipping opencv-contrib-python-headless as it is not installed.\u001b[0m\n",
      "\u001b[33mWARNING: Running pip as the 'root' user can result in broken permissions and conflicting behaviour with the system package manager. It is recommended to use a virtual environment instead: https://pip.pypa.io/warnings/venv\u001b[0m\n"
     ]
    }
   ],
   "source": [
    "!pip uninstall opencv-python\n",
    "!pip uninstall opencv-contrib-python\n",
    "!pip uninstall opencv-contrib-python-headless"
   ]
  },
  {
   "cell_type": "code",
   "execution_count": 22,
   "id": "cb3ee331-22d8-4aba-bef1-5205801a820d",
   "metadata": {},
   "outputs": [
    {
     "name": "stdout",
     "output_type": "stream",
     "text": [
      "Looking in indexes: https://pypi.org/simple, https://pypi.ngc.nvidia.com\n",
      "Collecting opencv-contrib-python==4.5.5.62\n",
      "  Downloading opencv_contrib_python-4.5.5.62-cp36-abi3-manylinux_2_17_x86_64.manylinux2014_x86_64.whl (66.6 MB)\n",
      "\u001b[K     |████████████████████████████████| 66.6 MB 56.7 MB/s eta 0:00:01\n",
      "\u001b[?25hRequirement already satisfied: numpy>=1.17.3 in /opt/conda/lib/python3.8/site-packages (from opencv-contrib-python==4.5.5.62) (1.24.4)\n",
      "Installing collected packages: opencv-contrib-python\n",
      "Successfully installed opencv-contrib-python-4.5.5.62\n",
      "\u001b[33mWARNING: Running pip as the 'root' user can result in broken permissions and conflicting behaviour with the system package manager. It is recommended to use a virtual environment instead: https://pip.pypa.io/warnings/venv\u001b[0m\n"
     ]
    }
   ],
   "source": [
    "!pip3 install opencv-contrib-python==4.5.5.62"
   ]
  },
  {
   "cell_type": "code",
   "execution_count": 28,
   "id": "98772715-ff57-403b-a04e-5479f09d58f9",
   "metadata": {},
   "outputs": [
    {
     "name": "stdout",
     "output_type": "stream",
     "text": [
      "Looking in indexes: https://pypi.org/simple, https://pypi.ngc.nvidia.com\n",
      "Requirement already satisfied: roboflow in /opt/conda/lib/python3.8/site-packages (1.1.49)\n",
      "Requirement already satisfied: Pillow>=7.1.2 in /opt/conda/lib/python3.8/site-packages (from roboflow) (10.4.0)\n",
      "Requirement already satisfied: PyYAML>=5.3.1 in /opt/conda/lib/python3.8/site-packages (from roboflow) (5.4.1)\n",
      "Requirement already satisfied: idna==3.7 in /opt/conda/lib/python3.8/site-packages (from roboflow) (3.7)\n",
      "Requirement already satisfied: python-dotenv in /opt/conda/lib/python3.8/site-packages (from roboflow) (0.19.1)\n",
      "Requirement already satisfied: six in /opt/conda/lib/python3.8/site-packages (from roboflow) (1.16.0)\n",
      "Requirement already satisfied: filetype in /opt/conda/lib/python3.8/site-packages (from roboflow) (1.2.0)\n",
      "Requirement already satisfied: python-dateutil in /opt/conda/lib/python3.8/site-packages (from roboflow) (2.8.2)\n",
      "Requirement already satisfied: certifi in /opt/conda/lib/python3.8/site-packages (from roboflow) (2021.5.30)\n",
      "Requirement already satisfied: requests-toolbelt in /opt/conda/lib/python3.8/site-packages (from roboflow) (1.0.0)\n",
      "Requirement already satisfied: matplotlib in /opt/conda/lib/python3.8/site-packages (from roboflow) (3.4.3)\n",
      "Requirement already satisfied: urllib3>=1.26.6 in /opt/conda/lib/python3.8/site-packages (from roboflow) (1.26.7)\n",
      "Requirement already satisfied: requests in /opt/conda/lib/python3.8/site-packages (from roboflow) (2.32.3)\n",
      "Requirement already satisfied: cycler in /opt/conda/lib/python3.8/site-packages (from roboflow) (0.10.0)\n",
      "Collecting opencv-python-headless==4.10.0.84\n",
      "  Downloading opencv_python_headless-4.10.0.84-cp37-abi3-manylinux_2_17_x86_64.manylinux2014_x86_64.whl (49.9 MB)\n",
      "\u001b[K     |████████████████████████████████| 49.9 MB 67.4 MB/s eta 0:00:01\n",
      "\u001b[?25hRequirement already satisfied: numpy>=1.18.5 in /opt/conda/lib/python3.8/site-packages (from roboflow) (1.24.4)\n",
      "Requirement already satisfied: tqdm>=4.41.0 in /opt/conda/lib/python3.8/site-packages (from roboflow) (4.67.0)\n",
      "Requirement already satisfied: kiwisolver>=1.3.1 in /opt/conda/lib/python3.8/site-packages (from roboflow) (1.3.2)\n",
      "Requirement already satisfied: pyparsing>=2.2.1 in /opt/conda/lib/python3.8/site-packages (from matplotlib->roboflow) (2.4.7)\n",
      "Requirement already satisfied: charset-normalizer<4,>=2 in /opt/conda/lib/python3.8/site-packages (from requests->roboflow) (2.0.0)\n",
      "Installing collected packages: opencv-python-headless\n",
      "Successfully installed opencv-python-headless-4.10.0.84\n",
      "\u001b[33mWARNING: Running pip as the 'root' user can result in broken permissions and conflicting behaviour with the system package manager. It is recommended to use a virtual environment instead: https://pip.pypa.io/warnings/venv\u001b[0m\n",
      "loading Roboflow workspace...\n",
      "loading Roboflow project...\n"
     ]
    },
    {
     "name": "stderr",
     "output_type": "stream",
     "text": [
      "Downloading Dataset Version Zip in 노면인식-2차-태국데이터-3 to yolov5pytorch:: 100%|██████████| 751507/751507 [00:50<00:00, 14848.97it/s]\n"
     ]
    },
    {
     "name": "stdout",
     "output_type": "stream",
     "text": [
      "\n"
     ]
    },
    {
     "name": "stderr",
     "output_type": "stream",
     "text": [
      "Extracting Dataset Version Zip to 노면인식-2차-태국데이터-3 in yolov5pytorch:: 100%|██████████| 20212/20212 [09:35<00:00, 35.14it/s]\n"
     ]
    }
   ],
   "source": [
    "!pip install roboflow\n",
    "\n",
    "from roboflow import Roboflow\n",
    "rf = Roboflow(api_key=\"zUKpim9gLjbG7xUp3Fvm\")\n",
    "project = rf.workspace(\"obd-team\").project(\"-2-i713l\")\n",
    "version = project.version(3)\n",
    "dataset = version.download(\"yolov5\")"
   ]
  },
  {
   "cell_type": "code",
   "execution_count": 26,
   "id": "407033ce-bd75-4344-b4a2-8fc1fae64045",
   "metadata": {},
   "outputs": [
    {
     "data": {
      "text/plain": [
       "'/kimsj020406/yolov5'"
      ]
     },
     "execution_count": 26,
     "metadata": {},
     "output_type": "execute_result"
    }
   ],
   "source": [
    "pwd"
   ]
  },
  {
   "cell_type": "code",
   "execution_count": 27,
   "id": "98b9fb89-0b66-470e-b3c1-b6e9b2ab99fc",
   "metadata": {},
   "outputs": [
    {
     "name": "stdout",
     "output_type": "stream",
     "text": [
      "/kimsj020406\n"
     ]
    }
   ],
   "source": [
    "%cd .."
   ]
  },
  {
   "cell_type": "code",
   "execution_count": 2,
   "id": "662db038-7ffd-4ac6-a014-958b150bb6ec",
   "metadata": {},
   "outputs": [
    {
     "name": "stdout",
     "output_type": "stream",
     "text": [
      "Available Camera Devices: [0]\n"
     ]
    }
   ],
   "source": [
    "import cv2\n",
    "\n",
    "# 사용 가능한 카메라 장치 확인 함수\n",
    "def list_available_cameras():\n",
    "    available_cameras = []\n",
    "    for i in range(5):  # 최대 5개의 카메라 장치 확인\n",
    "        cap = cv2.VideoCapture(i)\n",
    "    \n",
    "        if cap.isOpened():\n",
    "            available_cameras.append(i)\n",
    "            cap.release()\n",
    "    return available_cameras\n",
    "\n",
    "# 사용 가능한 카메라 장치 출력\n",
    "cameras = list_available_cameras()\n",
    "print(\"Available Camera Devices:\", cameras)"
   ]
  },
  {
   "cell_type": "code",
   "execution_count": 15,
   "id": "207a7595-38bb-4510-a16d-2e67ccdb5789",
   "metadata": {},
   "outputs": [
    {
     "name": "stderr",
     "output_type": "stream",
     "text": [
      "Using cache found in C:\\Users\\smhrd/.cache\\torch\\hub\\ultralytics_yolov5_master\n",
      "YOLOv5  2024-11-26 Python-3.10.11 torch-2.5.1+cpu CPU\n",
      "\n",
      "Fusing layers... \n",
      "YOLOv5s summary: 157 layers, 7026307 parameters, 0 gradients, 15.8 GFLOPs\n",
      "Adding AutoShape... \n"
     ]
    }
   ],
   "source": [
    "import pathlib\n",
    "import torch\n",
    "import cv2\n",
    "import warnings\n",
    "warnings.filterwarnings(\"ignore\", category=FutureWarning)\n",
    "\n",
    "# PosixPath를 WindowsPath로 대체\n",
    "temp = pathlib.PosixPath\n",
    "pathlib.PosixPath = pathlib.WindowsPath\n",
    "\n",
    "# YOLOv5 모델 로드\n",
    "model = torch.hub.load('ultralytics/yolov5', 'custom', path='C:/Users/smhrd/Desktop/project_OBD/project_obd/project_a/yolov5/runs/train/additional_training/weights/best.pt')\n",
    "model.conf = 0.25  # 신뢰도 임계값 설정\n",
    "\n",
    "# 웹캠 열기 (0번 카메라)\n",
    "cap = cv2.VideoCapture(0)\n",
    "\n",
    "if not cap.isOpened():\n",
    "    print(\"웹캠을 열 수 없습니다.\")\n",
    "    exit()\n",
    "\n",
    "while True:\n",
    "    ret, frame = cap.read()\n",
    "    if not ret:\n",
    "        print(\"프레임을 읽을 수 없습니다.\")\n",
    "        break\n",
    "\n",
    "    # YOLOv5 모델로 추론 수행\n",
    "    results = model(frame)\n",
    "\n",
    "    # 결과 데이터 가져오기 (바운딩 박스, 클래스, 신뢰도)\n",
    "    detections = results.xyxy[0].cpu().numpy()  # [x1, y1, x2, y2, confidence, class]\n",
    "\n",
    "    for detection in detections:\n",
    "        x1, y1, x2, y2, conf, cls = detection\n",
    "        class_name = model.names[int(cls)]  # 클래스 이름\n",
    "\n",
    "        # 바운딩 박스 그리기\n",
    "        cv2.rectangle(frame, (int(x1), int(y1)), (int(x2), int(y2)), (0, 255, 0), 2)\n",
    "        \n",
    "        # 클래스 이름 및 신뢰도 표시\n",
    "        label = f\"{class_name} {conf:.2f}\"\n",
    "        cv2.putText(frame, label, (int(x1), int(y1) - 10), cv2.FONT_HERSHEY_SIMPLEX, 0.5, (0, 255, 0), 2)\n",
    "\n",
    "    # 결과 화면 출력\n",
    "    cv2.imshow('YOLOv5 road_mark Detection', frame)\n",
    "\n",
    "     # 'q' 키를 누르면 종료\n",
    "    if cv2.waitKey(1) & 0xFF == ord('q'):\n",
    "        break\n",
    "\n",
    "# 리소스 해제\n",
    "cap.release()\n",
    "cv2.destroyAllWindows()\n"
   ]
  },
  {
   "cell_type": "code",
   "execution_count": null,
   "id": "1dded1d4",
   "metadata": {},
   "outputs": [
    {
     "name": "stderr",
     "output_type": "stream",
     "text": [
      "Using cache found in C:\\Users\\smhrd/.cache\\torch\\hub\\ultralytics_yolov5_master\n",
      "YOLOv5  2024-11-26 Python-3.10.11 torch-2.5.1+cpu CPU\n",
      "\n",
      "Fusing layers... \n",
      "YOLOv5s summary: 213 layers, 7225885 parameters, 0 gradients, 16.4 GFLOPs\n",
      "Adding AutoShape... \n"
     ]
    },
    {
     "ename": "KeyboardInterrupt",
     "evalue": "",
     "output_type": "error",
     "traceback": [
      "\u001b[1;31m---------------------------------------------------------------------------\u001b[0m",
      "\u001b[1;31mKeyboardInterrupt\u001b[0m                         Traceback (most recent call last)",
      "Cell \u001b[1;32mIn[16], line 29\u001b[0m\n\u001b[0;32m     26\u001b[0m     \u001b[38;5;28;01mbreak\u001b[39;00m\n\u001b[0;32m     28\u001b[0m \u001b[38;5;66;03m# YOLOv5 모델로 추론 수행\u001b[39;00m\n\u001b[1;32m---> 29\u001b[0m results \u001b[38;5;241m=\u001b[39m \u001b[43mmodel\u001b[49m\u001b[43m(\u001b[49m\u001b[43mframe\u001b[49m\u001b[43m)\u001b[49m\n\u001b[0;32m     31\u001b[0m \u001b[38;5;66;03m# 결과 데이터 가져오기 (바운딩 박스, 클래스, 신뢰도)\u001b[39;00m\n\u001b[0;32m     32\u001b[0m detections \u001b[38;5;241m=\u001b[39m results\u001b[38;5;241m.\u001b[39mxyxy[\u001b[38;5;241m0\u001b[39m]\u001b[38;5;241m.\u001b[39mcpu()\u001b[38;5;241m.\u001b[39mnumpy()  \u001b[38;5;66;03m# [x1, y1, x2, y2, confidence, class]\u001b[39;00m\n",
      "File \u001b[1;32mc:\\Users\\smhrd\\AppData\\Local\\Programs\\Python\\Python310\\lib\\site-packages\\torch\\nn\\modules\\module.py:1736\u001b[0m, in \u001b[0;36mModule._wrapped_call_impl\u001b[1;34m(self, *args, **kwargs)\u001b[0m\n\u001b[0;32m   1734\u001b[0m     \u001b[38;5;28;01mreturn\u001b[39;00m \u001b[38;5;28mself\u001b[39m\u001b[38;5;241m.\u001b[39m_compiled_call_impl(\u001b[38;5;241m*\u001b[39margs, \u001b[38;5;241m*\u001b[39m\u001b[38;5;241m*\u001b[39mkwargs)  \u001b[38;5;66;03m# type: ignore[misc]\u001b[39;00m\n\u001b[0;32m   1735\u001b[0m \u001b[38;5;28;01melse\u001b[39;00m:\n\u001b[1;32m-> 1736\u001b[0m     \u001b[38;5;28;01mreturn\u001b[39;00m \u001b[38;5;28mself\u001b[39m\u001b[38;5;241m.\u001b[39m_call_impl(\u001b[38;5;241m*\u001b[39margs, \u001b[38;5;241m*\u001b[39m\u001b[38;5;241m*\u001b[39mkwargs)\n",
      "File \u001b[1;32mc:\\Users\\smhrd\\AppData\\Local\\Programs\\Python\\Python310\\lib\\site-packages\\torch\\nn\\modules\\module.py:1747\u001b[0m, in \u001b[0;36mModule._call_impl\u001b[1;34m(self, *args, **kwargs)\u001b[0m\n\u001b[0;32m   1742\u001b[0m \u001b[38;5;66;03m# If we don't have any hooks, we want to skip the rest of the logic in\u001b[39;00m\n\u001b[0;32m   1743\u001b[0m \u001b[38;5;66;03m# this function, and just call forward.\u001b[39;00m\n\u001b[0;32m   1744\u001b[0m \u001b[38;5;28;01mif\u001b[39;00m \u001b[38;5;129;01mnot\u001b[39;00m (\u001b[38;5;28mself\u001b[39m\u001b[38;5;241m.\u001b[39m_backward_hooks \u001b[38;5;129;01mor\u001b[39;00m \u001b[38;5;28mself\u001b[39m\u001b[38;5;241m.\u001b[39m_backward_pre_hooks \u001b[38;5;129;01mor\u001b[39;00m \u001b[38;5;28mself\u001b[39m\u001b[38;5;241m.\u001b[39m_forward_hooks \u001b[38;5;129;01mor\u001b[39;00m \u001b[38;5;28mself\u001b[39m\u001b[38;5;241m.\u001b[39m_forward_pre_hooks\n\u001b[0;32m   1745\u001b[0m         \u001b[38;5;129;01mor\u001b[39;00m _global_backward_pre_hooks \u001b[38;5;129;01mor\u001b[39;00m _global_backward_hooks\n\u001b[0;32m   1746\u001b[0m         \u001b[38;5;129;01mor\u001b[39;00m _global_forward_hooks \u001b[38;5;129;01mor\u001b[39;00m _global_forward_pre_hooks):\n\u001b[1;32m-> 1747\u001b[0m     \u001b[38;5;28;01mreturn\u001b[39;00m forward_call(\u001b[38;5;241m*\u001b[39margs, \u001b[38;5;241m*\u001b[39m\u001b[38;5;241m*\u001b[39mkwargs)\n\u001b[0;32m   1749\u001b[0m result \u001b[38;5;241m=\u001b[39m \u001b[38;5;28;01mNone\u001b[39;00m\n\u001b[0;32m   1750\u001b[0m called_always_called_hooks \u001b[38;5;241m=\u001b[39m \u001b[38;5;28mset\u001b[39m()\n",
      "File \u001b[1;32mc:\\Users\\smhrd\\AppData\\Local\\Programs\\Python\\Python310\\lib\\site-packages\\torch\\utils\\_contextlib.py:116\u001b[0m, in \u001b[0;36mcontext_decorator.<locals>.decorate_context\u001b[1;34m(*args, **kwargs)\u001b[0m\n\u001b[0;32m    113\u001b[0m \u001b[38;5;129m@functools\u001b[39m\u001b[38;5;241m.\u001b[39mwraps(func)\n\u001b[0;32m    114\u001b[0m \u001b[38;5;28;01mdef\u001b[39;00m \u001b[38;5;21mdecorate_context\u001b[39m(\u001b[38;5;241m*\u001b[39margs, \u001b[38;5;241m*\u001b[39m\u001b[38;5;241m*\u001b[39mkwargs):\n\u001b[0;32m    115\u001b[0m     \u001b[38;5;28;01mwith\u001b[39;00m ctx_factory():\n\u001b[1;32m--> 116\u001b[0m         \u001b[38;5;28;01mreturn\u001b[39;00m func(\u001b[38;5;241m*\u001b[39margs, \u001b[38;5;241m*\u001b[39m\u001b[38;5;241m*\u001b[39mkwargs)\n",
      "File \u001b[1;32m~/.cache\\torch\\hub\\ultralytics_yolov5_master\\models\\common.py:895\u001b[0m, in \u001b[0;36mAutoShape.forward\u001b[1;34m(self, ims, size, augment, profile)\u001b[0m\n\u001b[0;32m    892\u001b[0m \u001b[38;5;28;01mwith\u001b[39;00m amp\u001b[38;5;241m.\u001b[39mautocast(autocast):\n\u001b[0;32m    893\u001b[0m     \u001b[38;5;66;03m# Inference\u001b[39;00m\n\u001b[0;32m    894\u001b[0m     \u001b[38;5;28;01mwith\u001b[39;00m dt[\u001b[38;5;241m1\u001b[39m]:\n\u001b[1;32m--> 895\u001b[0m         y \u001b[38;5;241m=\u001b[39m \u001b[38;5;28;43mself\u001b[39;49m\u001b[38;5;241;43m.\u001b[39;49m\u001b[43mmodel\u001b[49m\u001b[43m(\u001b[49m\u001b[43mx\u001b[49m\u001b[43m,\u001b[49m\u001b[43m \u001b[49m\u001b[43maugment\u001b[49m\u001b[38;5;241;43m=\u001b[39;49m\u001b[43maugment\u001b[49m\u001b[43m)\u001b[49m  \u001b[38;5;66;03m# forward\u001b[39;00m\n\u001b[0;32m    897\u001b[0m     \u001b[38;5;66;03m# Post-process\u001b[39;00m\n\u001b[0;32m    898\u001b[0m     \u001b[38;5;28;01mwith\u001b[39;00m dt[\u001b[38;5;241m2\u001b[39m]:\n",
      "File \u001b[1;32mc:\\Users\\smhrd\\AppData\\Local\\Programs\\Python\\Python310\\lib\\site-packages\\torch\\nn\\modules\\module.py:1736\u001b[0m, in \u001b[0;36mModule._wrapped_call_impl\u001b[1;34m(self, *args, **kwargs)\u001b[0m\n\u001b[0;32m   1734\u001b[0m     \u001b[38;5;28;01mreturn\u001b[39;00m \u001b[38;5;28mself\u001b[39m\u001b[38;5;241m.\u001b[39m_compiled_call_impl(\u001b[38;5;241m*\u001b[39margs, \u001b[38;5;241m*\u001b[39m\u001b[38;5;241m*\u001b[39mkwargs)  \u001b[38;5;66;03m# type: ignore[misc]\u001b[39;00m\n\u001b[0;32m   1735\u001b[0m \u001b[38;5;28;01melse\u001b[39;00m:\n\u001b[1;32m-> 1736\u001b[0m     \u001b[38;5;28;01mreturn\u001b[39;00m \u001b[38;5;28mself\u001b[39m\u001b[38;5;241m.\u001b[39m_call_impl(\u001b[38;5;241m*\u001b[39margs, \u001b[38;5;241m*\u001b[39m\u001b[38;5;241m*\u001b[39mkwargs)\n",
      "File \u001b[1;32mc:\\Users\\smhrd\\AppData\\Local\\Programs\\Python\\Python310\\lib\\site-packages\\torch\\nn\\modules\\module.py:1747\u001b[0m, in \u001b[0;36mModule._call_impl\u001b[1;34m(self, *args, **kwargs)\u001b[0m\n\u001b[0;32m   1742\u001b[0m \u001b[38;5;66;03m# If we don't have any hooks, we want to skip the rest of the logic in\u001b[39;00m\n\u001b[0;32m   1743\u001b[0m \u001b[38;5;66;03m# this function, and just call forward.\u001b[39;00m\n\u001b[0;32m   1744\u001b[0m \u001b[38;5;28;01mif\u001b[39;00m \u001b[38;5;129;01mnot\u001b[39;00m (\u001b[38;5;28mself\u001b[39m\u001b[38;5;241m.\u001b[39m_backward_hooks \u001b[38;5;129;01mor\u001b[39;00m \u001b[38;5;28mself\u001b[39m\u001b[38;5;241m.\u001b[39m_backward_pre_hooks \u001b[38;5;129;01mor\u001b[39;00m \u001b[38;5;28mself\u001b[39m\u001b[38;5;241m.\u001b[39m_forward_hooks \u001b[38;5;129;01mor\u001b[39;00m \u001b[38;5;28mself\u001b[39m\u001b[38;5;241m.\u001b[39m_forward_pre_hooks\n\u001b[0;32m   1745\u001b[0m         \u001b[38;5;129;01mor\u001b[39;00m _global_backward_pre_hooks \u001b[38;5;129;01mor\u001b[39;00m _global_backward_hooks\n\u001b[0;32m   1746\u001b[0m         \u001b[38;5;129;01mor\u001b[39;00m _global_forward_hooks \u001b[38;5;129;01mor\u001b[39;00m _global_forward_pre_hooks):\n\u001b[1;32m-> 1747\u001b[0m     \u001b[38;5;28;01mreturn\u001b[39;00m forward_call(\u001b[38;5;241m*\u001b[39margs, \u001b[38;5;241m*\u001b[39m\u001b[38;5;241m*\u001b[39mkwargs)\n\u001b[0;32m   1749\u001b[0m result \u001b[38;5;241m=\u001b[39m \u001b[38;5;28;01mNone\u001b[39;00m\n\u001b[0;32m   1750\u001b[0m called_always_called_hooks \u001b[38;5;241m=\u001b[39m \u001b[38;5;28mset\u001b[39m()\n",
      "File \u001b[1;32m~/.cache\\torch\\hub\\ultralytics_yolov5_master\\models\\common.py:688\u001b[0m, in \u001b[0;36mDetectMultiBackend.forward\u001b[1;34m(self, im, augment, visualize)\u001b[0m\n\u001b[0;32m    685\u001b[0m     im \u001b[38;5;241m=\u001b[39m im\u001b[38;5;241m.\u001b[39mpermute(\u001b[38;5;241m0\u001b[39m, \u001b[38;5;241m2\u001b[39m, \u001b[38;5;241m3\u001b[39m, \u001b[38;5;241m1\u001b[39m)  \u001b[38;5;66;03m# torch BCHW to numpy BHWC shape(1,320,192,3)\u001b[39;00m\n\u001b[0;32m    687\u001b[0m \u001b[38;5;28;01mif\u001b[39;00m \u001b[38;5;28mself\u001b[39m\u001b[38;5;241m.\u001b[39mpt:  \u001b[38;5;66;03m# PyTorch\u001b[39;00m\n\u001b[1;32m--> 688\u001b[0m     y \u001b[38;5;241m=\u001b[39m \u001b[38;5;28mself\u001b[39m\u001b[38;5;241m.\u001b[39mmodel(im, augment\u001b[38;5;241m=\u001b[39maugment, visualize\u001b[38;5;241m=\u001b[39mvisualize) \u001b[38;5;28;01mif\u001b[39;00m augment \u001b[38;5;129;01mor\u001b[39;00m visualize \u001b[38;5;28;01melse\u001b[39;00m \u001b[38;5;28;43mself\u001b[39;49m\u001b[38;5;241;43m.\u001b[39;49m\u001b[43mmodel\u001b[49m\u001b[43m(\u001b[49m\u001b[43mim\u001b[49m\u001b[43m)\u001b[49m\n\u001b[0;32m    689\u001b[0m \u001b[38;5;28;01melif\u001b[39;00m \u001b[38;5;28mself\u001b[39m\u001b[38;5;241m.\u001b[39mjit:  \u001b[38;5;66;03m# TorchScript\u001b[39;00m\n\u001b[0;32m    690\u001b[0m     y \u001b[38;5;241m=\u001b[39m \u001b[38;5;28mself\u001b[39m\u001b[38;5;241m.\u001b[39mmodel(im)\n",
      "File \u001b[1;32mc:\\Users\\smhrd\\AppData\\Local\\Programs\\Python\\Python310\\lib\\site-packages\\torch\\nn\\modules\\module.py:1736\u001b[0m, in \u001b[0;36mModule._wrapped_call_impl\u001b[1;34m(self, *args, **kwargs)\u001b[0m\n\u001b[0;32m   1734\u001b[0m     \u001b[38;5;28;01mreturn\u001b[39;00m \u001b[38;5;28mself\u001b[39m\u001b[38;5;241m.\u001b[39m_compiled_call_impl(\u001b[38;5;241m*\u001b[39margs, \u001b[38;5;241m*\u001b[39m\u001b[38;5;241m*\u001b[39mkwargs)  \u001b[38;5;66;03m# type: ignore[misc]\u001b[39;00m\n\u001b[0;32m   1735\u001b[0m \u001b[38;5;28;01melse\u001b[39;00m:\n\u001b[1;32m-> 1736\u001b[0m     \u001b[38;5;28;01mreturn\u001b[39;00m \u001b[38;5;28mself\u001b[39m\u001b[38;5;241m.\u001b[39m_call_impl(\u001b[38;5;241m*\u001b[39margs, \u001b[38;5;241m*\u001b[39m\u001b[38;5;241m*\u001b[39mkwargs)\n",
      "File \u001b[1;32mc:\\Users\\smhrd\\AppData\\Local\\Programs\\Python\\Python310\\lib\\site-packages\\torch\\nn\\modules\\module.py:1747\u001b[0m, in \u001b[0;36mModule._call_impl\u001b[1;34m(self, *args, **kwargs)\u001b[0m\n\u001b[0;32m   1742\u001b[0m \u001b[38;5;66;03m# If we don't have any hooks, we want to skip the rest of the logic in\u001b[39;00m\n\u001b[0;32m   1743\u001b[0m \u001b[38;5;66;03m# this function, and just call forward.\u001b[39;00m\n\u001b[0;32m   1744\u001b[0m \u001b[38;5;28;01mif\u001b[39;00m \u001b[38;5;129;01mnot\u001b[39;00m (\u001b[38;5;28mself\u001b[39m\u001b[38;5;241m.\u001b[39m_backward_hooks \u001b[38;5;129;01mor\u001b[39;00m \u001b[38;5;28mself\u001b[39m\u001b[38;5;241m.\u001b[39m_backward_pre_hooks \u001b[38;5;129;01mor\u001b[39;00m \u001b[38;5;28mself\u001b[39m\u001b[38;5;241m.\u001b[39m_forward_hooks \u001b[38;5;129;01mor\u001b[39;00m \u001b[38;5;28mself\u001b[39m\u001b[38;5;241m.\u001b[39m_forward_pre_hooks\n\u001b[0;32m   1745\u001b[0m         \u001b[38;5;129;01mor\u001b[39;00m _global_backward_pre_hooks \u001b[38;5;129;01mor\u001b[39;00m _global_backward_hooks\n\u001b[0;32m   1746\u001b[0m         \u001b[38;5;129;01mor\u001b[39;00m _global_forward_hooks \u001b[38;5;129;01mor\u001b[39;00m _global_forward_pre_hooks):\n\u001b[1;32m-> 1747\u001b[0m     \u001b[38;5;28;01mreturn\u001b[39;00m forward_call(\u001b[38;5;241m*\u001b[39margs, \u001b[38;5;241m*\u001b[39m\u001b[38;5;241m*\u001b[39mkwargs)\n\u001b[0;32m   1749\u001b[0m result \u001b[38;5;241m=\u001b[39m \u001b[38;5;28;01mNone\u001b[39;00m\n\u001b[0;32m   1750\u001b[0m called_always_called_hooks \u001b[38;5;241m=\u001b[39m \u001b[38;5;28mset\u001b[39m()\n",
      "File \u001b[1;32m~/.cache\\torch\\hub\\ultralytics_yolov5_master\\models\\yolo.py:270\u001b[0m, in \u001b[0;36mDetectionModel.forward\u001b[1;34m(self, x, augment, profile, visualize)\u001b[0m\n\u001b[0;32m    268\u001b[0m \u001b[38;5;28;01mif\u001b[39;00m augment:\n\u001b[0;32m    269\u001b[0m     \u001b[38;5;28;01mreturn\u001b[39;00m \u001b[38;5;28mself\u001b[39m\u001b[38;5;241m.\u001b[39m_forward_augment(x)  \u001b[38;5;66;03m# augmented inference, None\u001b[39;00m\n\u001b[1;32m--> 270\u001b[0m \u001b[38;5;28;01mreturn\u001b[39;00m \u001b[38;5;28;43mself\u001b[39;49m\u001b[38;5;241;43m.\u001b[39;49m\u001b[43m_forward_once\u001b[49m\u001b[43m(\u001b[49m\u001b[43mx\u001b[49m\u001b[43m,\u001b[49m\u001b[43m \u001b[49m\u001b[43mprofile\u001b[49m\u001b[43m,\u001b[49m\u001b[43m \u001b[49m\u001b[43mvisualize\u001b[49m\u001b[43m)\u001b[49m\n",
      "File \u001b[1;32m~/.cache\\torch\\hub\\ultralytics_yolov5_master\\models\\yolo.py:169\u001b[0m, in \u001b[0;36mBaseModel._forward_once\u001b[1;34m(self, x, profile, visualize)\u001b[0m\n\u001b[0;32m    167\u001b[0m \u001b[38;5;28;01mif\u001b[39;00m profile:\n\u001b[0;32m    168\u001b[0m     \u001b[38;5;28mself\u001b[39m\u001b[38;5;241m.\u001b[39m_profile_one_layer(m, x, dt)\n\u001b[1;32m--> 169\u001b[0m x \u001b[38;5;241m=\u001b[39m \u001b[43mm\u001b[49m\u001b[43m(\u001b[49m\u001b[43mx\u001b[49m\u001b[43m)\u001b[49m  \u001b[38;5;66;03m# run\u001b[39;00m\n\u001b[0;32m    170\u001b[0m y\u001b[38;5;241m.\u001b[39mappend(x \u001b[38;5;28;01mif\u001b[39;00m m\u001b[38;5;241m.\u001b[39mi \u001b[38;5;129;01min\u001b[39;00m \u001b[38;5;28mself\u001b[39m\u001b[38;5;241m.\u001b[39msave \u001b[38;5;28;01melse\u001b[39;00m \u001b[38;5;28;01mNone\u001b[39;00m)  \u001b[38;5;66;03m# save output\u001b[39;00m\n\u001b[0;32m    171\u001b[0m \u001b[38;5;28;01mif\u001b[39;00m visualize:\n",
      "File \u001b[1;32mc:\\Users\\smhrd\\AppData\\Local\\Programs\\Python\\Python310\\lib\\site-packages\\torch\\nn\\modules\\module.py:1736\u001b[0m, in \u001b[0;36mModule._wrapped_call_impl\u001b[1;34m(self, *args, **kwargs)\u001b[0m\n\u001b[0;32m   1734\u001b[0m     \u001b[38;5;28;01mreturn\u001b[39;00m \u001b[38;5;28mself\u001b[39m\u001b[38;5;241m.\u001b[39m_compiled_call_impl(\u001b[38;5;241m*\u001b[39margs, \u001b[38;5;241m*\u001b[39m\u001b[38;5;241m*\u001b[39mkwargs)  \u001b[38;5;66;03m# type: ignore[misc]\u001b[39;00m\n\u001b[0;32m   1735\u001b[0m \u001b[38;5;28;01melse\u001b[39;00m:\n\u001b[1;32m-> 1736\u001b[0m     \u001b[38;5;28;01mreturn\u001b[39;00m \u001b[38;5;28mself\u001b[39m\u001b[38;5;241m.\u001b[39m_call_impl(\u001b[38;5;241m*\u001b[39margs, \u001b[38;5;241m*\u001b[39m\u001b[38;5;241m*\u001b[39mkwargs)\n",
      "File \u001b[1;32mc:\\Users\\smhrd\\AppData\\Local\\Programs\\Python\\Python310\\lib\\site-packages\\torch\\nn\\modules\\module.py:1747\u001b[0m, in \u001b[0;36mModule._call_impl\u001b[1;34m(self, *args, **kwargs)\u001b[0m\n\u001b[0;32m   1742\u001b[0m \u001b[38;5;66;03m# If we don't have any hooks, we want to skip the rest of the logic in\u001b[39;00m\n\u001b[0;32m   1743\u001b[0m \u001b[38;5;66;03m# this function, and just call forward.\u001b[39;00m\n\u001b[0;32m   1744\u001b[0m \u001b[38;5;28;01mif\u001b[39;00m \u001b[38;5;129;01mnot\u001b[39;00m (\u001b[38;5;28mself\u001b[39m\u001b[38;5;241m.\u001b[39m_backward_hooks \u001b[38;5;129;01mor\u001b[39;00m \u001b[38;5;28mself\u001b[39m\u001b[38;5;241m.\u001b[39m_backward_pre_hooks \u001b[38;5;129;01mor\u001b[39;00m \u001b[38;5;28mself\u001b[39m\u001b[38;5;241m.\u001b[39m_forward_hooks \u001b[38;5;129;01mor\u001b[39;00m \u001b[38;5;28mself\u001b[39m\u001b[38;5;241m.\u001b[39m_forward_pre_hooks\n\u001b[0;32m   1745\u001b[0m         \u001b[38;5;129;01mor\u001b[39;00m _global_backward_pre_hooks \u001b[38;5;129;01mor\u001b[39;00m _global_backward_hooks\n\u001b[0;32m   1746\u001b[0m         \u001b[38;5;129;01mor\u001b[39;00m _global_forward_hooks \u001b[38;5;129;01mor\u001b[39;00m _global_forward_pre_hooks):\n\u001b[1;32m-> 1747\u001b[0m     \u001b[38;5;28;01mreturn\u001b[39;00m forward_call(\u001b[38;5;241m*\u001b[39margs, \u001b[38;5;241m*\u001b[39m\u001b[38;5;241m*\u001b[39mkwargs)\n\u001b[0;32m   1749\u001b[0m result \u001b[38;5;241m=\u001b[39m \u001b[38;5;28;01mNone\u001b[39;00m\n\u001b[0;32m   1750\u001b[0m called_always_called_hooks \u001b[38;5;241m=\u001b[39m \u001b[38;5;28mset\u001b[39m()\n",
      "File \u001b[1;32m~/.cache\\torch\\hub\\ultralytics_yolov5_master\\models\\common.py:247\u001b[0m, in \u001b[0;36mC3.forward\u001b[1;34m(self, x)\u001b[0m\n\u001b[0;32m    245\u001b[0m \u001b[38;5;28;01mdef\u001b[39;00m \u001b[38;5;21mforward\u001b[39m(\u001b[38;5;28mself\u001b[39m, x):\n\u001b[0;32m    246\u001b[0m \u001b[38;5;250m    \u001b[39m\u001b[38;5;124;03m\"\"\"Performs forward propagation using concatenated outputs from two convolutions and a Bottleneck sequence.\"\"\"\u001b[39;00m\n\u001b[1;32m--> 247\u001b[0m     \u001b[38;5;28;01mreturn\u001b[39;00m \u001b[38;5;28mself\u001b[39m\u001b[38;5;241m.\u001b[39mcv3(torch\u001b[38;5;241m.\u001b[39mcat((\u001b[38;5;28mself\u001b[39m\u001b[38;5;241m.\u001b[39mm(\u001b[38;5;28;43mself\u001b[39;49m\u001b[38;5;241;43m.\u001b[39;49m\u001b[43mcv1\u001b[49m\u001b[43m(\u001b[49m\u001b[43mx\u001b[49m\u001b[43m)\u001b[49m), \u001b[38;5;28mself\u001b[39m\u001b[38;5;241m.\u001b[39mcv2(x)), \u001b[38;5;241m1\u001b[39m))\n",
      "File \u001b[1;32mc:\\Users\\smhrd\\AppData\\Local\\Programs\\Python\\Python310\\lib\\site-packages\\torch\\nn\\modules\\module.py:1736\u001b[0m, in \u001b[0;36mModule._wrapped_call_impl\u001b[1;34m(self, *args, **kwargs)\u001b[0m\n\u001b[0;32m   1734\u001b[0m     \u001b[38;5;28;01mreturn\u001b[39;00m \u001b[38;5;28mself\u001b[39m\u001b[38;5;241m.\u001b[39m_compiled_call_impl(\u001b[38;5;241m*\u001b[39margs, \u001b[38;5;241m*\u001b[39m\u001b[38;5;241m*\u001b[39mkwargs)  \u001b[38;5;66;03m# type: ignore[misc]\u001b[39;00m\n\u001b[0;32m   1735\u001b[0m \u001b[38;5;28;01melse\u001b[39;00m:\n\u001b[1;32m-> 1736\u001b[0m     \u001b[38;5;28;01mreturn\u001b[39;00m \u001b[38;5;28mself\u001b[39m\u001b[38;5;241m.\u001b[39m_call_impl(\u001b[38;5;241m*\u001b[39margs, \u001b[38;5;241m*\u001b[39m\u001b[38;5;241m*\u001b[39mkwargs)\n",
      "File \u001b[1;32mc:\\Users\\smhrd\\AppData\\Local\\Programs\\Python\\Python310\\lib\\site-packages\\torch\\nn\\modules\\module.py:1747\u001b[0m, in \u001b[0;36mModule._call_impl\u001b[1;34m(self, *args, **kwargs)\u001b[0m\n\u001b[0;32m   1742\u001b[0m \u001b[38;5;66;03m# If we don't have any hooks, we want to skip the rest of the logic in\u001b[39;00m\n\u001b[0;32m   1743\u001b[0m \u001b[38;5;66;03m# this function, and just call forward.\u001b[39;00m\n\u001b[0;32m   1744\u001b[0m \u001b[38;5;28;01mif\u001b[39;00m \u001b[38;5;129;01mnot\u001b[39;00m (\u001b[38;5;28mself\u001b[39m\u001b[38;5;241m.\u001b[39m_backward_hooks \u001b[38;5;129;01mor\u001b[39;00m \u001b[38;5;28mself\u001b[39m\u001b[38;5;241m.\u001b[39m_backward_pre_hooks \u001b[38;5;129;01mor\u001b[39;00m \u001b[38;5;28mself\u001b[39m\u001b[38;5;241m.\u001b[39m_forward_hooks \u001b[38;5;129;01mor\u001b[39;00m \u001b[38;5;28mself\u001b[39m\u001b[38;5;241m.\u001b[39m_forward_pre_hooks\n\u001b[0;32m   1745\u001b[0m         \u001b[38;5;129;01mor\u001b[39;00m _global_backward_pre_hooks \u001b[38;5;129;01mor\u001b[39;00m _global_backward_hooks\n\u001b[0;32m   1746\u001b[0m         \u001b[38;5;129;01mor\u001b[39;00m _global_forward_hooks \u001b[38;5;129;01mor\u001b[39;00m _global_forward_pre_hooks):\n\u001b[1;32m-> 1747\u001b[0m     \u001b[38;5;28;01mreturn\u001b[39;00m forward_call(\u001b[38;5;241m*\u001b[39margs, \u001b[38;5;241m*\u001b[39m\u001b[38;5;241m*\u001b[39mkwargs)\n\u001b[0;32m   1749\u001b[0m result \u001b[38;5;241m=\u001b[39m \u001b[38;5;28;01mNone\u001b[39;00m\n\u001b[0;32m   1750\u001b[0m called_always_called_hooks \u001b[38;5;241m=\u001b[39m \u001b[38;5;28mset\u001b[39m()\n",
      "File \u001b[1;32m~/.cache\\torch\\hub\\ultralytics_yolov5_master\\models\\common.py:91\u001b[0m, in \u001b[0;36mConv.forward_fuse\u001b[1;34m(self, x)\u001b[0m\n\u001b[0;32m     89\u001b[0m \u001b[38;5;28;01mdef\u001b[39;00m \u001b[38;5;21mforward_fuse\u001b[39m(\u001b[38;5;28mself\u001b[39m, x):\n\u001b[0;32m     90\u001b[0m \u001b[38;5;250m    \u001b[39m\u001b[38;5;124;03m\"\"\"Applies a fused convolution and activation function to the input tensor `x`.\"\"\"\u001b[39;00m\n\u001b[1;32m---> 91\u001b[0m     \u001b[38;5;28;01mreturn\u001b[39;00m \u001b[38;5;28mself\u001b[39m\u001b[38;5;241m.\u001b[39mact(\u001b[38;5;28;43mself\u001b[39;49m\u001b[38;5;241;43m.\u001b[39;49m\u001b[43mconv\u001b[49m\u001b[43m(\u001b[49m\u001b[43mx\u001b[49m\u001b[43m)\u001b[49m)\n",
      "File \u001b[1;32mc:\\Users\\smhrd\\AppData\\Local\\Programs\\Python\\Python310\\lib\\site-packages\\torch\\nn\\modules\\module.py:1736\u001b[0m, in \u001b[0;36mModule._wrapped_call_impl\u001b[1;34m(self, *args, **kwargs)\u001b[0m\n\u001b[0;32m   1734\u001b[0m     \u001b[38;5;28;01mreturn\u001b[39;00m \u001b[38;5;28mself\u001b[39m\u001b[38;5;241m.\u001b[39m_compiled_call_impl(\u001b[38;5;241m*\u001b[39margs, \u001b[38;5;241m*\u001b[39m\u001b[38;5;241m*\u001b[39mkwargs)  \u001b[38;5;66;03m# type: ignore[misc]\u001b[39;00m\n\u001b[0;32m   1735\u001b[0m \u001b[38;5;28;01melse\u001b[39;00m:\n\u001b[1;32m-> 1736\u001b[0m     \u001b[38;5;28;01mreturn\u001b[39;00m \u001b[38;5;28mself\u001b[39m\u001b[38;5;241m.\u001b[39m_call_impl(\u001b[38;5;241m*\u001b[39margs, \u001b[38;5;241m*\u001b[39m\u001b[38;5;241m*\u001b[39mkwargs)\n",
      "File \u001b[1;32mc:\\Users\\smhrd\\AppData\\Local\\Programs\\Python\\Python310\\lib\\site-packages\\torch\\nn\\modules\\module.py:1747\u001b[0m, in \u001b[0;36mModule._call_impl\u001b[1;34m(self, *args, **kwargs)\u001b[0m\n\u001b[0;32m   1742\u001b[0m \u001b[38;5;66;03m# If we don't have any hooks, we want to skip the rest of the logic in\u001b[39;00m\n\u001b[0;32m   1743\u001b[0m \u001b[38;5;66;03m# this function, and just call forward.\u001b[39;00m\n\u001b[0;32m   1744\u001b[0m \u001b[38;5;28;01mif\u001b[39;00m \u001b[38;5;129;01mnot\u001b[39;00m (\u001b[38;5;28mself\u001b[39m\u001b[38;5;241m.\u001b[39m_backward_hooks \u001b[38;5;129;01mor\u001b[39;00m \u001b[38;5;28mself\u001b[39m\u001b[38;5;241m.\u001b[39m_backward_pre_hooks \u001b[38;5;129;01mor\u001b[39;00m \u001b[38;5;28mself\u001b[39m\u001b[38;5;241m.\u001b[39m_forward_hooks \u001b[38;5;129;01mor\u001b[39;00m \u001b[38;5;28mself\u001b[39m\u001b[38;5;241m.\u001b[39m_forward_pre_hooks\n\u001b[0;32m   1745\u001b[0m         \u001b[38;5;129;01mor\u001b[39;00m _global_backward_pre_hooks \u001b[38;5;129;01mor\u001b[39;00m _global_backward_hooks\n\u001b[0;32m   1746\u001b[0m         \u001b[38;5;129;01mor\u001b[39;00m _global_forward_hooks \u001b[38;5;129;01mor\u001b[39;00m _global_forward_pre_hooks):\n\u001b[1;32m-> 1747\u001b[0m     \u001b[38;5;28;01mreturn\u001b[39;00m forward_call(\u001b[38;5;241m*\u001b[39margs, \u001b[38;5;241m*\u001b[39m\u001b[38;5;241m*\u001b[39mkwargs)\n\u001b[0;32m   1749\u001b[0m result \u001b[38;5;241m=\u001b[39m \u001b[38;5;28;01mNone\u001b[39;00m\n\u001b[0;32m   1750\u001b[0m called_always_called_hooks \u001b[38;5;241m=\u001b[39m \u001b[38;5;28mset\u001b[39m()\n",
      "File \u001b[1;32mc:\\Users\\smhrd\\AppData\\Local\\Programs\\Python\\Python310\\lib\\site-packages\\torch\\nn\\modules\\conv.py:554\u001b[0m, in \u001b[0;36mConv2d.forward\u001b[1;34m(self, input)\u001b[0m\n\u001b[0;32m    553\u001b[0m \u001b[38;5;28;01mdef\u001b[39;00m \u001b[38;5;21mforward\u001b[39m(\u001b[38;5;28mself\u001b[39m, \u001b[38;5;28minput\u001b[39m: Tensor) \u001b[38;5;241m-\u001b[39m\u001b[38;5;241m>\u001b[39m Tensor:\n\u001b[1;32m--> 554\u001b[0m     \u001b[38;5;28;01mreturn\u001b[39;00m \u001b[38;5;28;43mself\u001b[39;49m\u001b[38;5;241;43m.\u001b[39;49m\u001b[43m_conv_forward\u001b[49m\u001b[43m(\u001b[49m\u001b[38;5;28;43minput\u001b[39;49m\u001b[43m,\u001b[49m\u001b[43m \u001b[49m\u001b[38;5;28;43mself\u001b[39;49m\u001b[38;5;241;43m.\u001b[39;49m\u001b[43mweight\u001b[49m\u001b[43m,\u001b[49m\u001b[43m \u001b[49m\u001b[38;5;28;43mself\u001b[39;49m\u001b[38;5;241;43m.\u001b[39;49m\u001b[43mbias\u001b[49m\u001b[43m)\u001b[49m\n",
      "File \u001b[1;32mc:\\Users\\smhrd\\AppData\\Local\\Programs\\Python\\Python310\\lib\\site-packages\\torch\\nn\\modules\\conv.py:549\u001b[0m, in \u001b[0;36mConv2d._conv_forward\u001b[1;34m(self, input, weight, bias)\u001b[0m\n\u001b[0;32m    537\u001b[0m \u001b[38;5;28;01mif\u001b[39;00m \u001b[38;5;28mself\u001b[39m\u001b[38;5;241m.\u001b[39mpadding_mode \u001b[38;5;241m!=\u001b[39m \u001b[38;5;124m\"\u001b[39m\u001b[38;5;124mzeros\u001b[39m\u001b[38;5;124m\"\u001b[39m:\n\u001b[0;32m    538\u001b[0m     \u001b[38;5;28;01mreturn\u001b[39;00m F\u001b[38;5;241m.\u001b[39mconv2d(\n\u001b[0;32m    539\u001b[0m         F\u001b[38;5;241m.\u001b[39mpad(\n\u001b[0;32m    540\u001b[0m             \u001b[38;5;28minput\u001b[39m, \u001b[38;5;28mself\u001b[39m\u001b[38;5;241m.\u001b[39m_reversed_padding_repeated_twice, mode\u001b[38;5;241m=\u001b[39m\u001b[38;5;28mself\u001b[39m\u001b[38;5;241m.\u001b[39mpadding_mode\n\u001b[1;32m   (...)\u001b[0m\n\u001b[0;32m    547\u001b[0m         \u001b[38;5;28mself\u001b[39m\u001b[38;5;241m.\u001b[39mgroups,\n\u001b[0;32m    548\u001b[0m     )\n\u001b[1;32m--> 549\u001b[0m \u001b[38;5;28;01mreturn\u001b[39;00m \u001b[43mF\u001b[49m\u001b[38;5;241;43m.\u001b[39;49m\u001b[43mconv2d\u001b[49m\u001b[43m(\u001b[49m\n\u001b[0;32m    550\u001b[0m \u001b[43m    \u001b[49m\u001b[38;5;28;43minput\u001b[39;49m\u001b[43m,\u001b[49m\u001b[43m \u001b[49m\u001b[43mweight\u001b[49m\u001b[43m,\u001b[49m\u001b[43m \u001b[49m\u001b[43mbias\u001b[49m\u001b[43m,\u001b[49m\u001b[43m \u001b[49m\u001b[38;5;28;43mself\u001b[39;49m\u001b[38;5;241;43m.\u001b[39;49m\u001b[43mstride\u001b[49m\u001b[43m,\u001b[49m\u001b[43m \u001b[49m\u001b[38;5;28;43mself\u001b[39;49m\u001b[38;5;241;43m.\u001b[39;49m\u001b[43mpadding\u001b[49m\u001b[43m,\u001b[49m\u001b[43m \u001b[49m\u001b[38;5;28;43mself\u001b[39;49m\u001b[38;5;241;43m.\u001b[39;49m\u001b[43mdilation\u001b[49m\u001b[43m,\u001b[49m\u001b[43m \u001b[49m\u001b[38;5;28;43mself\u001b[39;49m\u001b[38;5;241;43m.\u001b[39;49m\u001b[43mgroups\u001b[49m\n\u001b[0;32m    551\u001b[0m \u001b[43m\u001b[49m\u001b[43m)\u001b[49m\n",
      "\u001b[1;31mKeyboardInterrupt\u001b[0m: "
     ]
    },
    {
     "ename": "",
     "evalue": "",
     "output_type": "error",
     "traceback": [
      "\u001b[1;31mThe Kernel crashed while executing code in the current cell or a previous cell. \n",
      "\u001b[1;31mPlease review the code in the cell(s) to identify a possible cause of the failure. \n",
      "\u001b[1;31mClick <a href='https://aka.ms/vscodeJupyterKernelCrash'>here</a> for more info. \n",
      "\u001b[1;31mView Jupyter <a href='command:jupyter.viewOutput'>log</a> for further details."
     ]
    }
   ],
   "source": [
    "import pathlib\n",
    "import torch\n",
    "import cv2\n",
    "import warnings\n",
    "warnings.filterwarnings(\"ignore\", category=FutureWarning)\n",
    "\n",
    "# PosixPath를 WindowsPath로 대체\n",
    "temp = pathlib.PosixPath\n",
    "pathlib.PosixPath = pathlib.WindowsPath\n",
    "\n",
    "# YOLOv5 모델 로드\n",
    "model = torch.hub.load('ultralytics/yolov5', 'custom', path='C:/Users/smhrd/Desktop/project_OBD/project_obd/project_a/yolov5/yolov5s.pt')\n",
    "model.conf = 0.25  # 신뢰도 임계값 설정\n",
    "\n",
    "# 웹캠 열기 (0번 카메라)\n",
    "cap = cv2.VideoCapture(0)\n",
    "\n",
    "if not cap.isOpened():\n",
    "    print(\"웹캠을 열 수 없습니다.\")\n",
    "    exit()\n",
    "\n",
    "while True:\n",
    "    ret, frame = cap.read()\n",
    "    if not ret:\n",
    "        print(\"프레임을 읽을 수 없습니다.\")\n",
    "        break\n",
    "\n",
    "    # YOLOv5 모델로 추론 수행\n",
    "    results = model(frame)\n",
    "\n",
    "    # 결과 데이터 가져오기 (바운딩 박스, 클래스, 신뢰도)\n",
    "    detections = results.xyxy[0].cpu().numpy()  # [x1, y1, x2, y2, confidence, class]\n",
    "\n",
    "    for detection in detections:\n",
    "        x1, y1, x2, y2, conf, cls = detection\n",
    "        class_name = model.names[int(cls)]  # 클래스 이름\n",
    "\n",
    "        # 바운딩 박스 그리기\n",
    "        cv2.rectangle(frame, (int(x1), int(y1)), (int(x2), int(y2)), (0, 255, 0), 2)\n",
    "        \n",
    "        # 클래스 이름 및 신뢰도 표시\n",
    "        label = f\"{class_name} {conf:.2f}\"\n",
    "        cv2.putText(frame, label, (int(x1), int(y1) - 10), cv2.FONT_HERSHEY_SIMPLEX, 0.5, (0, 255, 0), 2)\n",
    "\n",
    "    # 결과 화면 출력\n",
    "    cv2.imshow('YOLOv5 road_mark Detection', frame)\n",
    "\n",
    "     # 'q' 키를 누르면 종료\n",
    "    if cv2.waitKey(1) & 0xFF == ord('q'):\n",
    "        break\n",
    "\n",
    "# 리소스 해제\n",
    "cap.release()\n",
    "cv2.destroyAllWindows()"
   ]
  },
  {
   "cell_type": "code",
   "execution_count": null,
   "id": "868e4e22",
   "metadata": {},
   "outputs": [
    {
     "name": "stderr",
     "output_type": "stream",
     "text": [
      "Using cache found in C:\\Users\\smhrd/.cache\\torch\\hub\\ultralytics_yolov5_master\n",
      "YOLOv5  2024-11-26 Python-3.10.11 torch-2.5.1+cpu CPU\n",
      "\n",
      "Fusing layers... \n",
      "YOLOv5s summary: 157 layers, 7026307 parameters, 0 gradients, 15.8 GFLOPs\n",
      "Adding AutoShape... \n"
     ]
    }
   ],
   "source": [
    "# 도로 노면정보 읽기 \n",
    "import pathlib\n",
    "import torch\n",
    "import cv2\n",
    "import warnings\n",
    "warnings.filterwarnings(\"ignore\", category=FutureWarning)\n",
    "\n",
    "# PosixPath를 WindowsPath로 대체\n",
    "temp = pathlib.PosixPath\n",
    "pathlib.PosixPath = pathlib.WindowsPath\n",
    "\n",
    "# YOLOv5 모델 로드\n",
    "model = torch.hub.load('ultralytics/yolov5', 'custom', path='C:/Users/smhrd/Desktop/project_OBD/project_obd/project_a/yolov5/runs/train/additional_training/weights/best.pt')\n",
    "model.conf = 0.25  # 신뢰도 임계값 설정\n",
    "\n",
    "# 웹캠 열기 (0번 카메라)\n",
    "cap = cv2.VideoCapture(0)\n",
    "\n",
    "if not cap.isOpened():\n",
    "    print(\"웹캠을 열 수 없습니다.\")\n",
    "    exit()\n",
    "\n",
    "while True:\n",
    "    ret, frame = cap.read()\n",
    "    if not ret:\n",
    "        print(\"프레임을 읽을 수 없습니다.\")\n",
    "        break\n",
    "\n",
    "    # YOLOv5 모델로 추론 수행\n",
    "    results = model(frame)\n",
    "\n",
    "    # 결과 데이터 가져오기 (바운딩 박스, 클래스, 신뢰도)\n",
    "    detections = results.xyxy[0].cpu().numpy()  # [x1, y1, x2, y2, confidence, class]\n",
    "\n",
    "    for detection in detections:\n",
    "        x1, y1, x2, y2, conf, cls = detection\n",
    "        class_name = model.names[int(cls)]  # 클래스 이름\n",
    "\n",
    "        # 사람 클래스만 처리\n",
    "        if class_name == 'person':\n",
    "            # 바운딩 박스 그리기\n",
    "            cv2.rectangle(frame, (int(x1), int(y1)), (int(x2), int(y2)), (0, 255, 0), 2)\n",
    "            \n",
    "            # 클래스 이름 및 신뢰도 표시\n",
    "            label = f\"{class_name} {conf:.2f}\"\n",
    "            cv2.putText(frame, label, (int(x1), int(y1) - 10), cv2.FONT_HERSHEY_SIMPLEX, 0.5, (0, 255, 0), 2)\n",
    "\n",
    "    # 결과 화면 출력\n",
    "    cv2.imshow('YOLOv5 Person Detection', frame)\n",
    "\n",
    "    # 'q' 키를 누르면 종료\n",
    "    if cv2.waitKey(1) & 0xFF == ord('q'):\n",
    "        break\n",
    "\n",
    "# 리소스 해제\n",
    "cap.release()\n",
    "cv2.destroyAllWindows()"
   ]
  },
  {
   "cell_type": "code",
   "execution_count": null,
   "id": "c64137d6",
   "metadata": {},
   "outputs": [],
   "source": [
    "# 사람인식 \n",
    "import pathlib\n",
    "import torch\n",
    "import cv2\n",
    "import warnings\n",
    "warnings.filterwarnings(\"ignore\", category=FutureWarning)\n",
    "\n",
    "# PosixPath를 WindowsPath로 대체\n",
    "temp = pathlib.PosixPath\n",
    "pathlib.PosixPath = pathlib.WindowsPath\n",
    "\n",
    "# YOLOv5 모델 로드\n",
    "model = torch.hub.load('ultralytics/yolov5', 'custom', path='C:/Users/smhrd/Desktop/project_OBD/project_obd/project_a/yolov5/yolov5s.pt')\n",
    "model.conf = 0.25  # 신뢰도 임계값 설정\n",
    "\n",
    "# 웹캠 열기 (0번 카메라)\n",
    "cap = cv2.VideoCapture(0)\n",
    "\n",
    "if not cap.isOpened():\n",
    "    print(\"웹캠을 열 수 없습니다.\")\n",
    "    exit()\n",
    "\n",
    "while True:\n",
    "    ret, frame = cap.read()\n",
    "    if not ret:\n",
    "        print(\"프레임을 읽을 수 없습니다.\")\n",
    "        break\n",
    "\n",
    "    # YOLOv5 모델로 추론 수행\n",
    "    results = model(frame)\n",
    "\n",
    "    # 결과 데이터 가져오기 (바운딩 박스, 클래스, 신뢰도)\n",
    "    detections = results.xyxy[0].cpu().numpy()  # [x1, y1, x2, y2, confidence, class]\n",
    "\n",
    "    for detection in detections:\n",
    "        x1, y1, x2, y2, conf, cls = detection\n",
    "        class_name = model.names[int(cls)]  # 클래스 이름\n",
    "\n",
    "        # 사람 클래스만 처리\n",
    "        if class_name == 'person':\n",
    "            # 바운딩 박스 그리기\n",
    "            cv2.rectangle(frame, (int(x1), int(y1)), (int(x2), int(y2)), (0, 255, 0), 2)\n",
    "            \n",
    "            # 클래스 이름 및 신뢰도 표시\n",
    "            label = f\"{class_name} {conf:.2f}\"\n",
    "            cv2.putText(frame, label, (int(x1), int(y1) - 10), cv2.FONT_HERSHEY_SIMPLEX, 0.5, (0, 255, 0), 2)\n",
    "\n",
    "    # 결과 화면 출력\n",
    "    cv2.imshow('YOLOv5 Person Detection', frame)\n",
    "\n",
    "    # 'q' 키를 누르면 종료\n",
    "    if cv2.waitKey(1) & 0xFF == ord('q'):\n",
    "        break\n",
    "\n",
    "# 리소스 해제\n",
    "cap.release()\n",
    "cv2.destroyAllWindows()"
   ]
  },
  {
   "cell_type": "code",
   "execution_count": null,
   "id": "f93e4074",
   "metadata": {},
   "outputs": [],
   "source": [
    "python val.py --weights runs/train/additional_training/weights/best.pt --data ../sec_masking/data.yaml --img 640 --conf 0.25\n"
   ]
  },
  {
   "cell_type": "code",
   "execution_count": 1,
   "id": "2222c8a1",
   "metadata": {},
   "outputs": [],
   "source": [
    "import pathlib\n",
    "temp = pathlib.PosixPath\n",
    "pathlib.PosixPath = pathlib.WindowsPath"
   ]
  },
  {
   "cell_type": "code",
   "execution_count": 6,
   "id": "55f6b413",
   "metadata": {},
   "outputs": [
    {
     "name": "stderr",
     "output_type": "stream",
     "text": [
      "\u001b[34m\u001b[1mval: \u001b[0mdata=../sec_masking/data.yaml, weights=['runs/train/additional_training/weights/best.pt'], batch_size=32, imgsz=640, conf_thres=0.25, iou_thres=0.6, max_det=300, task=val, device=, workers=8, single_cls=False, augment=False, verbose=False, save_txt=False, save_hybrid=False, save_conf=False, save_json=False, project=runs\\val, name=exp, exist_ok=False, half=False, dnn=False\n",
      "WARNING  confidence threshold 0.25 > 0.001 produces invalid results\n",
      "YOLOv5  v7.0-386-g81ac034a Python-3.10.11 torch-2.5.1+cpu CPU\n",
      "\n",
      "Traceback (most recent call last):\n",
      "  File \"c:\\Users\\smhrd\\Desktop\\project_OBD\\project_obd\\project_a\\yolov5\\val.py\", line 604, in <module>\n",
      "    main(opt)\n",
      "  File \"c:\\Users\\smhrd\\Desktop\\project_OBD\\project_obd\\project_a\\yolov5\\val.py\", line 575, in main\n",
      "    run(**vars(opt))\n",
      "  File \"c:\\Users\\smhrd\\AppData\\Local\\Programs\\Python\\Python310\\lib\\site-packages\\torch\\utils\\_contextlib.py\", line 116, in decorate_context\n",
      "    return func(*args, **kwargs)\n",
      "  File \"c:\\Users\\smhrd\\Desktop\\project_OBD\\project_obd\\project_a\\yolov5\\val.py\", line 270, in run\n",
      "    model = DetectMultiBackend(weights, device=device, dnn=dnn, data=data, fp16=half)\n",
      "  File \"c:\\Users\\smhrd\\Desktop\\project_OBD\\project_obd\\project_a\\yolov5\\models\\common.py\", line 489, in __init__\n",
      "    model = attempt_load(weights if isinstance(weights, list) else w, device=device, inplace=True, fuse=fuse)\n",
      "  File \"c:\\Users\\smhrd\\Desktop\\project_OBD\\project_obd\\project_a\\yolov5\\models\\experimental.py\", line 98, in attempt_load\n",
      "    ckpt = torch.load(attempt_download(w), map_location=\"cpu\")  # load\n",
      "  File \"c:\\Users\\smhrd\\AppData\\Local\\Programs\\Python\\Python310\\lib\\site-packages\\ultralytics\\utils\\patches.py\", line 86, in torch_load\n",
      "    return _torch_load(*args, **kwargs)\n",
      "  File \"c:\\Users\\smhrd\\AppData\\Local\\Programs\\Python\\Python310\\lib\\site-packages\\torch\\serialization.py\", line 1360, in load\n",
      "    return _load(\n",
      "  File \"c:\\Users\\smhrd\\AppData\\Local\\Programs\\Python\\Python310\\lib\\site-packages\\torch\\serialization.py\", line 1848, in _load\n",
      "    result = unpickler.load()\n",
      "  File \"c:\\Users\\smhrd\\AppData\\Local\\Programs\\Python\\Python310\\lib\\pathlib.py\", line 962, in __new__\n",
      "    raise NotImplementedError(\"cannot instantiate %r on your system\"\n",
      "NotImplementedError: cannot instantiate 'PosixPath' on your system\n"
     ]
    }
   ],
   "source": [
    "!python val.py --weights runs/train/additional_training/weights/best.pt --data ../sec_masking/data.yaml --img 640 --conf 0.25"
   ]
  },
  {
   "cell_type": "code",
   "execution_count": 5,
   "id": "85ab2a29",
   "metadata": {},
   "outputs": [
    {
     "data": {
      "text/plain": [
       "'c:\\\\Users\\\\smhrd\\\\Desktop\\\\project_OBD\\\\project_obd\\\\project_a\\\\yolov5'"
      ]
     },
     "execution_count": 5,
     "metadata": {},
     "output_type": "execute_result"
    }
   ],
   "source": [
    "pwd"
   ]
  },
  {
   "cell_type": "code",
   "execution_count": 4,
   "id": "0c442214",
   "metadata": {},
   "outputs": [
    {
     "name": "stdout",
     "output_type": "stream",
     "text": [
      "c:\\Users\\smhrd\\Desktop\\project_OBD\\project_obd\\project_a\\yolov5\n"
     ]
    },
    {
     "name": "stderr",
     "output_type": "stream",
     "text": [
      "C:\\Users\\smhrd\\AppData\\Roaming\\Python\\Python310\\site-packages\\IPython\\core\\magics\\osm.py:417: UserWarning: This is now an optional IPython functionality, setting dhist requires you to install the `pickleshare` library.\n",
      "  self.shell.db['dhist'] = compress_dhist(dhist)[-100:]\n"
     ]
    }
   ],
   "source": [
    "%cd yolov5/"
   ]
  },
  {
   "cell_type": "code",
   "execution_count": null,
   "id": "126a25cc",
   "metadata": {},
   "outputs": [],
   "source": []
  }
 ],
 "metadata": {
  "kernelspec": {
   "display_name": "Python 3",
   "language": "python",
   "name": "python3"
  },
  "language_info": {
   "codemirror_mode": {
    "name": "ipython",
    "version": 3
   },
   "file_extension": ".py",
   "mimetype": "text/x-python",
   "name": "python",
   "nbconvert_exporter": "python",
   "pygments_lexer": "ipython3",
   "version": "3.10.11"
  }
 },
 "nbformat": 4,
 "nbformat_minor": 5
}
